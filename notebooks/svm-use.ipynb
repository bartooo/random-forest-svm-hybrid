{
 "cells": [
  {
   "cell_type": "code",
   "execution_count": 1,
   "metadata": {},
   "outputs": [],
   "source": [
    "from IPython.lib.deepreload import reload\n",
    "%load_ext autoreload\n",
    "%autoreload 2"
   ]
  },
  {
   "cell_type": "code",
   "execution_count": 2,
   "metadata": {},
   "outputs": [],
   "source": [
    "from sklearn.datasets import load_breast_cancer\n",
    "from sklearn.model_selection import train_test_split\n",
    "import numpy as np"
   ]
  },
  {
   "cell_type": "code",
   "execution_count": 3,
   "metadata": {},
   "outputs": [],
   "source": [
    "data = load_breast_cancer()\n",
    "X = data.data\n",
    "y = data.target"
   ]
  },
  {
   "cell_type": "code",
   "execution_count": 4,
   "metadata": {},
   "outputs": [],
   "source": [
    "X_train, X_test, y_train, y_test = train_test_split(X, y, test_size=0.15, random_state=0)"
   ]
  },
  {
   "cell_type": "code",
   "execution_count": 5,
   "metadata": {},
   "outputs": [],
   "source": [
    "import sys\n",
    "\n",
    "sys.path.append(\"..\")\n",
    "from src.SVM.SVM import SVM\n",
    "\n",
    "svm = SVM(lambd=0.05, minimizer_params={'beta': 0.01, 'min_epsilon': 1e-12, 'max_steps': 10000})\n",
    "\n",
    "svm.fit(X_train, y_train)"
   ]
  },
  {
   "cell_type": "code",
   "execution_count": 12,
   "metadata": {},
   "outputs": [
    {
     "data": {
      "text/plain": [
       "array([0, 1, 1, 0, 1, 1, 1, 1, 1, 1, 1, 1, 1, 1, 1, 0, 1, 0, 1, 0, 0, 0,\n",
       "       1, 1, 1, 1, 1, 1, 1, 0, 1, 0, 1, 0, 1, 0, 1, 0, 1, 0, 0, 1, 0, 1,\n",
       "       1, 0, 1, 1, 1, 0, 0, 1, 0, 1, 1, 1, 1, 1, 1, 0, 0, 0, 1, 1, 0, 1,\n",
       "       0, 0, 0, 1, 0, 0, 1, 1, 0, 1, 1, 1, 1, 1, 0, 0, 0, 1, 0, 1])"
      ]
     },
     "execution_count": 12,
     "metadata": {},
     "output_type": "execute_result"
    }
   ],
   "source": [
    "svm.predict(X_test)"
   ]
  },
  {
   "cell_type": "code",
   "execution_count": 13,
   "metadata": {},
   "outputs": [
    {
     "data": {
      "text/plain": [
       "0.9186046511627907"
      ]
     },
     "execution_count": 13,
     "metadata": {},
     "output_type": "execute_result"
    }
   ],
   "source": [
    "np.sum(svm.predict(X_test)== y_test) / y_test.shape[0]"
   ]
  },
  {
   "cell_type": "code",
   "execution_count": 14,
   "metadata": {},
   "outputs": [],
   "source": [
    "lambdas = [0.0001, 0.0005, 0.001, 0.005, 0.01, 0.05, 0.1, 0.5, 1, 5]\n",
    "\n",
    "def validate_model(training_set_x, training_set_y, validating_set_x, validating_set_y):\n",
    "    best_model = None\n",
    "    best_lambda = None\n",
    "    best_score = - np.inf\n",
    "\n",
    "    for param_lambda in lambdas:\n",
    "        model0 = SVM(lambd=param_lambda)\n",
    "        model0.fit(training_set_x, training_set_y)\n",
    "        # results_validating = np.zeros(len(validating_set_y), dtype='int')\n",
    "        results_validating = model0.predict(validating_set_x)\n",
    "        n_of_successes = 0\n",
    "        for x, y in zip(results_validating, validating_set_y):\n",
    "            if x == y:\n",
    "                n_of_successes += 1\n",
    "        print(f\"Validating model with lambda: {param_lambda} gave score: {n_of_successes / len(results_validating)}\")\n",
    "        # as long as new score is not worse than actual best, lambda should be maximized\n",
    "        if (n_of_successes / len(results_validating) >= best_score):      \n",
    "            best_score = n_of_successes / len(results_validating)\n",
    "            best_lambda = param_lambda\n",
    "            best_model = model0\n",
    "    print(f\"Best lambda for this validation equals: {best_lambda} with score: {best_score}\")\n",
    "    return best_model"
   ]
  },
  {
   "cell_type": "code",
   "execution_count": 15,
   "metadata": {},
   "outputs": [
    {
     "name": "stdout",
     "output_type": "stream",
     "text": [
      "Validating model with lambda: 0.0001 gave score: 0.9069767441860465\n",
      "Validating model with lambda: 0.0005 gave score: 0.872093023255814\n",
      "Validating model with lambda: 0.001 gave score: 0.872093023255814\n",
      "Validating model with lambda: 0.005 gave score: 0.9418604651162791\n",
      "Validating model with lambda: 0.01 gave score: 0.9069767441860465\n",
      "Validating model with lambda: 0.05 gave score: 0.9186046511627907\n",
      "Validating model with lambda: 0.1 gave score: 0.6744186046511628\n",
      "Validating model with lambda: 0.5 gave score: 0.6627906976744186\n",
      "Validating model with lambda: 1 gave score: 0.4186046511627907\n",
      "Validating model with lambda: 5 gave score: 0.5813953488372093\n",
      "Best lambda for this validation equals: 0.005 with score: 0.9418604651162791\n"
     ]
    }
   ],
   "source": [
    "model = validate_model(X_train, y_train, X_test, y_test)"
   ]
  },
  {
   "cell_type": "code",
   "execution_count": 16,
   "metadata": {},
   "outputs": [
    {
     "data": {
      "text/plain": [
       "array([[ -384748.53759219],\n",
       "       [  355313.56093596],\n",
       "       [  443776.43959173],\n",
       "       [    6863.9923769 ],\n",
       "       [  681331.18835657],\n",
       "       [  408321.56605417],\n",
       "       [  713857.24005333],\n",
       "       [  538410.02236267],\n",
       "       [  308845.58360978],\n",
       "       [  606203.837421  ],\n",
       "       [  118551.88753637],\n",
       "       [   83768.30812388],\n",
       "       [  645352.33724432],\n",
       "       [  -73489.1144613 ],\n",
       "       [  101193.29657763],\n",
       "       [ -794653.7607268 ],\n",
       "       [  516695.43727499],\n",
       "       [-2100895.57186478],\n",
       "       [ -210387.45694964],\n",
       "       [-2921354.82419721],\n",
       "       [-1037677.04978529],\n",
       "       [  -98051.93798427],\n",
       "       [  401341.70322015],\n",
       "       [  298577.51681136],\n",
       "       [ -144513.90353483],\n",
       "       [  179093.88663599],\n",
       "       [  330291.43270289],\n",
       "       [  447676.49965809],\n",
       "       [  359108.12728383],\n",
       "       [-3020885.55558324],\n",
       "       [  500508.17883209],\n",
       "       [-2504338.97400011],\n",
       "       [  167870.06179765],\n",
       "       [ -861078.45955353],\n",
       "       [  533816.48149184],\n",
       "       [ -864943.11674348],\n",
       "       [   94407.1991272 ],\n",
       "       [-1406132.60518266],\n",
       "       [  320981.95585395],\n",
       "       [ -868363.97931206],\n",
       "       [ -335324.59295126],\n",
       "       [  391407.94402401],\n",
       "       [ -864022.27830166],\n",
       "       [  515185.00252411],\n",
       "       [  146763.17770305],\n",
       "       [-2749429.50332364],\n",
       "       [  575124.7175065 ],\n",
       "       [  285944.49486921],\n",
       "       [  518609.22829717],\n",
       "       [ -355782.07032707],\n",
       "       [ -605649.49510633],\n",
       "       [  466463.07523471],\n",
       "       [-1823160.71379016],\n",
       "       [  473326.29157998],\n",
       "       [  421045.59151499],\n",
       "       [  506893.59595291],\n",
       "       [  565487.9421804 ],\n",
       "       [  221668.10825465],\n",
       "       [  391973.25029379],\n",
       "       [-3996818.03036081],\n",
       "       [ -223288.04754518],\n",
       "       [-1296237.37820827],\n",
       "       [  441429.64634719],\n",
       "       [  427868.50715316],\n",
       "       [-1657968.57955323],\n",
       "       [  100034.92341264],\n",
       "       [-3749769.27038633],\n",
       "       [-1480074.82904555],\n",
       "       [-1472278.45965714],\n",
       "       [  466092.49244141],\n",
       "       [ -139525.3035719 ],\n",
       "       [-1507849.30745865],\n",
       "       [  425234.90474014],\n",
       "       [  282353.3046383 ],\n",
       "       [-1620902.66268813],\n",
       "       [  286879.8107421 ],\n",
       "       [  553390.3626074 ],\n",
       "       [  509358.61334669],\n",
       "       [  216436.54586441],\n",
       "       [  270644.72681909],\n",
       "       [ -531036.88579597],\n",
       "       [-1276104.71949347],\n",
       "       [-1475876.1471794 ],\n",
       "       [  509466.22165272],\n",
       "       [ -393705.30964345],\n",
       "       [  471080.28910003]])"
      ]
     },
     "execution_count": 16,
     "metadata": {},
     "output_type": "execute_result"
    }
   ],
   "source": [
    "model._f(X_test)"
   ]
  },
  {
   "cell_type": "markdown",
   "metadata": {},
   "source": [
    "Metoda referencyjna"
   ]
  },
  {
   "cell_type": "code",
   "execution_count": 17,
   "metadata": {},
   "outputs": [
    {
     "data": {
      "text/plain": [
       "0.9302325581395349"
      ]
     },
     "execution_count": 17,
     "metadata": {},
     "output_type": "execute_result"
    }
   ],
   "source": [
    "from sklearn.svm import SVC\n",
    "\n",
    "svm = SVC(C=0.05, kernel=\"linear\")\n",
    "svm.fit(X_train, y_train)\n",
    "np.sum(svm.predict(X_test) == y_test) / y_test.shape[0]"
   ]
  }
 ],
 "metadata": {
  "interpreter": {
   "hash": "cb41b3ba020c43230641dc89788df1545ba1093a02a0edeecc2381a8c341d87f"
  },
  "kernelspec": {
   "display_name": "Python 3.9.5 ('forest-svm-venv': venv)",
   "language": "python",
   "name": "python3"
  },
  "language_info": {
   "codemirror_mode": {
    "name": "ipython",
    "version": 3
   },
   "file_extension": ".py",
   "mimetype": "text/x-python",
   "name": "python",
   "nbconvert_exporter": "python",
   "pygments_lexer": "ipython3",
   "version": "3.9.5"
  },
  "orig_nbformat": 4
 },
 "nbformat": 4,
 "nbformat_minor": 2
}
