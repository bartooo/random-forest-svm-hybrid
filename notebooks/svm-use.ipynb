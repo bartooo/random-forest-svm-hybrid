{
 "cells": [
  {
   "cell_type": "code",
   "execution_count": 1,
   "metadata": {},
   "outputs": [],
   "source": [
    "from IPython.lib.deepreload import reload\n",
    "%load_ext autoreload\n",
    "%autoreload 2"
   ]
  },
  {
   "cell_type": "code",
   "execution_count": 2,
   "metadata": {},
   "outputs": [],
   "source": [
    "from sklearn.datasets import load_breast_cancer\n",
    "from sklearn.model_selection import train_test_split\n",
    "import numpy as np"
   ]
  },
  {
   "cell_type": "code",
   "execution_count": 3,
   "metadata": {},
   "outputs": [],
   "source": [
    "data = load_breast_cancer()\n",
    "X = data.data\n",
    "y = data.target"
   ]
  },
  {
   "cell_type": "code",
   "execution_count": 4,
   "metadata": {},
   "outputs": [],
   "source": [
    "X_train, X_test, y_train, y_test = train_test_split(X, y, test_size=0.15, random_state=0)"
   ]
  },
  {
   "cell_type": "code",
   "execution_count": 5,
   "metadata": {},
   "outputs": [
    {
     "ename": "ModuleNotFoundError",
     "evalue": "No module named 'src'",
     "output_type": "error",
     "traceback": [
      "\u001b[1;31m---------------------------------------------------------------------------\u001b[0m",
      "\u001b[1;31mModuleNotFoundError\u001b[0m                       Traceback (most recent call last)",
      "\u001b[1;32mc:\\Users\\01149762\\Documents\\AI\\random-forest-svm-hybrid\\notebooks\\svm-use.ipynb Cell 5'\u001b[0m in \u001b[0;36m<cell line: 1>\u001b[1;34m()\u001b[0m\n\u001b[1;32m----> <a href='vscode-notebook-cell:/c%3A/Users/01149762/Documents/AI/random-forest-svm-hybrid/notebooks/svm-use.ipynb#ch0000004?line=0'>1</a>\u001b[0m \u001b[39mfrom\u001b[39;00m \u001b[39msrc\u001b[39;00m\u001b[39m.\u001b[39;00m\u001b[39mSVM\u001b[39;00m\u001b[39m.\u001b[39;00m\u001b[39mSVM\u001b[39;00m \u001b[39mimport\u001b[39;00m SVM, correct_targets\n\u001b[0;32m      <a href='vscode-notebook-cell:/c%3A/Users/01149762/Documents/AI/random-forest-svm-hybrid/notebooks/svm-use.ipynb#ch0000004?line=2'>3</a>\u001b[0m svm \u001b[39m=\u001b[39m SVM(lambd\u001b[39m=\u001b[39m\u001b[39m1\u001b[39m, minimizer_params\u001b[39m=\u001b[39m{\u001b[39m'\u001b[39m\u001b[39mbeta\u001b[39m\u001b[39m'\u001b[39m: \u001b[39m0.01\u001b[39m, \u001b[39m'\u001b[39m\u001b[39mmin_epsilon\u001b[39m\u001b[39m'\u001b[39m: \u001b[39m1e-20\u001b[39m})\n\u001b[0;32m      <a href='vscode-notebook-cell:/c%3A/Users/01149762/Documents/AI/random-forest-svm-hybrid/notebooks/svm-use.ipynb#ch0000004?line=4'>5</a>\u001b[0m svm\u001b[39m.\u001b[39mfit(X_train, y_train)\n",
      "\u001b[1;31mModuleNotFoundError\u001b[0m: No module named 'src'"
     ]
    }
   ],
   "source": [
    "from src.SVM.SVM import SVM, correct_targets\n",
    "\n",
    "svm = SVM(lambd=1, minimizer_params={'beta': 0.01, 'min_epsilon': 1e-20})\n",
    "\n",
    "svm.fit(X_train, y_train)"
   ]
  },
  {
   "cell_type": "code",
   "execution_count": 48,
   "metadata": {},
   "outputs": [
    {
     "data": {
      "text/plain": [
       "array([[ 1],\n",
       "       [ 1],\n",
       "       [ 1],\n",
       "       [ 1],\n",
       "       [ 1],\n",
       "       [ 1],\n",
       "       [ 1],\n",
       "       [ 1],\n",
       "       [ 1],\n",
       "       [ 1],\n",
       "       [ 1],\n",
       "       [ 1],\n",
       "       [ 1],\n",
       "       [ 1],\n",
       "       [ 1],\n",
       "       [ 1],\n",
       "       [ 1],\n",
       "       [ 1],\n",
       "       [ 1],\n",
       "       [ 1],\n",
       "       [-1],\n",
       "       [ 1],\n",
       "       [ 1],\n",
       "       [ 1],\n",
       "       [ 1],\n",
       "       [ 1],\n",
       "       [ 1],\n",
       "       [ 1],\n",
       "       [ 1],\n",
       "       [-1],\n",
       "       [ 1],\n",
       "       [ 1],\n",
       "       [ 1],\n",
       "       [ 1],\n",
       "       [ 1],\n",
       "       [-1],\n",
       "       [ 1],\n",
       "       [ 1],\n",
       "       [ 1],\n",
       "       [ 1],\n",
       "       [ 1],\n",
       "       [ 1],\n",
       "       [ 1],\n",
       "       [ 1],\n",
       "       [ 1],\n",
       "       [ 1],\n",
       "       [ 1],\n",
       "       [ 1],\n",
       "       [ 1],\n",
       "       [ 1],\n",
       "       [ 1],\n",
       "       [ 1],\n",
       "       [ 1],\n",
       "       [ 1],\n",
       "       [ 1],\n",
       "       [ 1],\n",
       "       [ 1],\n",
       "       [ 1],\n",
       "       [ 1],\n",
       "       [-1],\n",
       "       [ 1],\n",
       "       [ 1],\n",
       "       [ 1],\n",
       "       [ 1],\n",
       "       [ 1],\n",
       "       [ 1],\n",
       "       [-1],\n",
       "       [ 1],\n",
       "       [ 1],\n",
       "       [ 1],\n",
       "       [ 1],\n",
       "       [-1],\n",
       "       [ 1],\n",
       "       [ 1],\n",
       "       [ 1],\n",
       "       [ 1],\n",
       "       [ 1],\n",
       "       [ 1],\n",
       "       [ 1],\n",
       "       [ 1],\n",
       "       [ 1],\n",
       "       [ 1],\n",
       "       [ 1],\n",
       "       [ 1],\n",
       "       [ 1],\n",
       "       [ 1]])"
      ]
     },
     "execution_count": 48,
     "metadata": {},
     "output_type": "execute_result"
    }
   ],
   "source": [
    "svm.predict(X_test)"
   ]
  },
  {
   "cell_type": "code",
   "execution_count": 49,
   "metadata": {},
   "outputs": [
    {
     "data": {
      "text/plain": [
       "array([[ 3.35325294e+02],\n",
       "       [ 6.28098892e+02],\n",
       "       [ 2.05411625e+03],\n",
       "       [ 2.67134755e+03],\n",
       "       [ 3.56641852e+00],\n",
       "       [ 1.24161958e+00],\n",
       "       [-1.91001930e+00],\n",
       "       [-1.00352242e+00],\n",
       "       [ 6.64758297e+00],\n",
       "       [ 2.66268345e+00],\n",
       "       [ 2.57468320e+00],\n",
       "       [ 5.11301110e+01],\n",
       "       [ 1.71361146e+01],\n",
       "       [-5.56393310e+02],\n",
       "       [ 3.15119784e-01],\n",
       "       [ 5.53276056e-01],\n",
       "       [ 6.00622733e-01],\n",
       "       [ 2.55900296e-01],\n",
       "       [ 8.51559383e-01],\n",
       "       [ 1.41943991e-01],\n",
       "       [ 3.23335572e+02],\n",
       "       [ 7.94120487e+02],\n",
       "       [ 1.97495206e+03],\n",
       "       [-2.02736144e+03],\n",
       "       [ 4.62377398e+00],\n",
       "       [ 1.36400296e+00],\n",
       "       [-2.44782322e+00],\n",
       "       [-4.31183044e-01],\n",
       "       [ 9.42216080e+00],\n",
       "       [ 2.94925555e+00],\n",
       "       [-8.19614000e+03]])"
      ]
     },
     "execution_count": 49,
     "metadata": {},
     "output_type": "execute_result"
    }
   ],
   "source": [
    "svm.params"
   ]
  },
  {
   "cell_type": "code",
   "execution_count": 35,
   "metadata": {},
   "outputs": [],
   "source": [
    "lambdas = [0.0001, 0.0005, 0.001, 0.005, 0.01, 0.05, 0.1, 0.5, 1, 5]\n",
    "\n",
    "def validate_model(training_set_x, training_set_y, validating_set_x, validating_set_y):\n",
    "    best_model = None\n",
    "    best_lambda = None\n",
    "    best_score = - np.inf\n",
    "\n",
    "    for param_lambda in lambdas:\n",
    "        model0 = SVM(lambd=param_lambda)\n",
    "        model0.fit(training_set_x, training_set_y)\n",
    "        # results_validating = np.zeros(len(validating_set_y), dtype='int')\n",
    "        results_validating = model0.predict(validating_set_x)\n",
    "        n_of_successes = 0\n",
    "        for x, y in zip(results_validating, correct_targets(validating_set_y)):\n",
    "            if x == y:\n",
    "                n_of_successes += 1\n",
    "        print(f\"Validating model with lambda: {param_lambda} gave score: {n_of_successes / len(results_validating)}\")\n",
    "        # as long as new score is not worse than actual best, lambda should be maximized\n",
    "        if (n_of_successes / len(results_validating) >= best_score):      \n",
    "            best_score = n_of_successes / len(results_validating)\n",
    "            best_lambda = param_lambda\n",
    "            best_model = model0\n",
    "    print(f\"Best lambda for this validation equals: {best_lambda} with score: {best_score}\")\n",
    "    return best_model"
   ]
  },
  {
   "cell_type": "code",
   "execution_count": 36,
   "metadata": {},
   "outputs": [
    {
     "name": "stdout",
     "output_type": "stream",
     "text": [
      "Validating model with lambda: 0.0001 gave score: 0.9418604651162791\n",
      "Validating model with lambda: 0.0005 gave score: 0.9302325581395349\n",
      "Validating model with lambda: 0.001 gave score: 0.9418604651162791\n",
      "Validating model with lambda: 0.005 gave score: 0.9069767441860465\n",
      "Validating model with lambda: 0.01 gave score: 0.8488372093023255\n",
      "Validating model with lambda: 0.05 gave score: 0.872093023255814\n",
      "Validating model with lambda: 0.1 gave score: 0.4883720930232558\n",
      "Validating model with lambda: 0.5 gave score: 0.4186046511627907\n",
      "Validating model with lambda: 1 gave score: 0.6511627906976745\n",
      "Validating model with lambda: 5 gave score: 0.4186046511627907\n",
      "Best lambda for this validation equals: 0.001 with score: 0.9418604651162791\n"
     ]
    }
   ],
   "source": [
    "model = validate_model(X_train, y_train, X_test, y_test)"
   ]
  },
  {
   "cell_type": "code",
   "execution_count": 28,
   "metadata": {},
   "outputs": [
    {
     "data": {
      "text/plain": [
       "array([[ -194124.24937905],\n",
       "       [  422537.58756279],\n",
       "       [  555012.34001462],\n",
       "       [  165839.2801087 ],\n",
       "       [  737819.50904183],\n",
       "       [  482313.91928561],\n",
       "       [  757426.66615969],\n",
       "       [  598025.90918719],\n",
       "       [  307426.72279391],\n",
       "       [  649687.71081426],\n",
       "       [  267601.31196924],\n",
       "       [  198340.28918641],\n",
       "       [  658357.40511574],\n",
       "       [   72286.79391422],\n",
       "       [  249928.68982748],\n",
       "       [ -503196.13680524],\n",
       "       [  542537.6329647 ],\n",
       "       [-1712883.99277778],\n",
       "       [  -59692.14701588],\n",
       "       [-2485874.81669593],\n",
       "       [ -770483.67814289],\n",
       "       [  106649.8361866 ],\n",
       "       [  533776.83168357],\n",
       "       [  391629.89365698],\n",
       "       [   83766.79131758],\n",
       "       [  308728.67718889],\n",
       "       [  424209.96773993],\n",
       "       [  547235.23458588],\n",
       "       [  477254.1737173 ],\n",
       "       [-2519702.83624791],\n",
       "       [  593786.31520295],\n",
       "       [-2032443.13481192],\n",
       "       [  287845.18296814],\n",
       "       [ -603857.90317881],\n",
       "       [  600686.67104909],\n",
       "       [ -637290.91182596],\n",
       "       [  229600.50046544],\n",
       "       [-1101256.95928256],\n",
       "       [  447367.04252001],\n",
       "       [ -664054.87472299],\n",
       "       [ -204680.10353966],\n",
       "       [  430930.55779521],\n",
       "       [ -623243.31796487],\n",
       "       [  569776.34802043],\n",
       "       [  291959.59042932],\n",
       "       [-2373574.27845176],\n",
       "       [  609255.10090675],\n",
       "       [  383048.6177911 ],\n",
       "       [  577848.86152236],\n",
       "       [ -176848.83531428],\n",
       "       [ -442919.156496  ],\n",
       "       [  578921.65047879],\n",
       "       [-1464051.25211941],\n",
       "       [  547886.8129527 ],\n",
       "       [  495123.1727246 ],\n",
       "       [  584753.65771953],\n",
       "       [  593294.65031243],\n",
       "       [  252144.422928  ],\n",
       "       [  454166.57839596],\n",
       "       [-3413731.35306913],\n",
       "       [  -91340.20876818],\n",
       "       [-1022048.76895721],\n",
       "       [  515940.60397237],\n",
       "       [  518700.84135342],\n",
       "       [-1358610.86066637],\n",
       "       [  149208.24129586],\n",
       "       [-3191811.01595591],\n",
       "       [-1188524.47291315],\n",
       "       [-1194995.87882619],\n",
       "       [  485337.12076533],\n",
       "       [   45727.45428778],\n",
       "       [-1165005.70258509],\n",
       "       [  507855.28924449],\n",
       "       [  363655.2952924 ],\n",
       "       [-1247701.23380541],\n",
       "       [  362314.66651201],\n",
       "       [  601044.29104748],\n",
       "       [  591869.56862119],\n",
       "       [  316900.34809299],\n",
       "       [  309566.70688577],\n",
       "       [ -343384.65724981],\n",
       "       [ -998193.87370933],\n",
       "       [-1155333.71186206],\n",
       "       [  565348.36422243],\n",
       "       [ -155490.04377095],\n",
       "       [  577433.59781789]])"
      ]
     },
     "execution_count": 28,
     "metadata": {},
     "output_type": "execute_result"
    }
   ],
   "source": [
    "model._f(X_test)"
   ]
  }
 ],
 "metadata": {
  "interpreter": {
   "hash": "cb41b3ba020c43230641dc89788df1545ba1093a02a0edeecc2381a8c341d87f"
  },
  "kernelspec": {
   "display_name": "Python 3.9.5 ('forest-svm-venv': venv)",
   "language": "python",
   "name": "python3"
  },
  "language_info": {
   "codemirror_mode": {
    "name": "ipython",
    "version": 3
   },
   "file_extension": ".py",
   "mimetype": "text/x-python",
   "name": "python",
   "nbconvert_exporter": "python",
   "pygments_lexer": "ipython3",
   "version": "3.9.5"
  },
  "orig_nbformat": 4
 },
 "nbformat": 4,
 "nbformat_minor": 2
}
