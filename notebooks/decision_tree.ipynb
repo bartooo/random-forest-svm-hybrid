{
 "cells": [
  {
   "cell_type": "code",
   "execution_count": 1,
   "metadata": {},
   "outputs": [],
   "source": [
    "import numpy as np\n",
    "from sklearn.datasets import load_breast_cancer\n",
    "from sklearn.model_selection import train_test_split\n",
    "from sklearn.metrics import classification_report\n",
    "from typing import Tuple\n"
   ]
  },
  {
   "cell_type": "code",
   "execution_count": 2,
   "metadata": {},
   "outputs": [],
   "source": [
    "data = load_breast_cancer()\n",
    "X = data.data\n",
    "y = data.target\n"
   ]
  },
  {
   "cell_type": "code",
   "execution_count": 3,
   "metadata": {},
   "outputs": [
    {
     "data": {
      "text/plain": [
       "((569, 30), (569,))"
      ]
     },
     "execution_count": 3,
     "metadata": {},
     "output_type": "execute_result"
    }
   ],
   "source": [
    "X.shape, y.shape\n"
   ]
  },
  {
   "cell_type": "code",
   "execution_count": 4,
   "metadata": {},
   "outputs": [],
   "source": [
    "X_train, X_test, y_train, y_test = train_test_split(\n",
    "    X, y, test_size=0.20, random_state=42\n",
    ")\n"
   ]
  },
  {
   "cell_type": "code",
   "execution_count": 5,
   "metadata": {},
   "outputs": [],
   "source": [
    "class Node:\n",
    "    def __init__(\n",
    "        self,\n",
    "        depth: int,\n",
    "        split_attribute: int = None,\n",
    "        split_threshold: float = None,\n",
    "        entropy: float = None,\n",
    "        samples: int = None,\n",
    "        values: np.ndarray = None,\n",
    "        label: int = None,\n",
    "    ) -> None:\n",
    "        self.depth = depth\n",
    "        self.split_attribute = split_attribute\n",
    "        self.split_threshold = split_threshold\n",
    "        self.entropy = entropy\n",
    "        self.samples = samples\n",
    "        self.values = values\n",
    "        self.label = label\n",
    "        self.right = None\n",
    "        self.left = None\n",
    "\n",
    "    def __str__(self):\n",
    "        return f\"Depth: {self.depth}, Split attribute index: {self.split_attribute}, threshold: {self.split_threshold}, entropy: {self.entropy:.3f}, samples: {self.samples}, values: {self.values}, label: {self.label}\"\n"
   ]
  },
  {
   "cell_type": "code",
   "execution_count": 6,
   "metadata": {},
   "outputs": [],
   "source": [
    "class DecisionTree:\n",
    "    def __init__(self, max_depth: int, min_entropy_diff: float) -> None:\n",
    "        self.root = None\n",
    "        self.max_depth = max_depth\n",
    "        self.min_entropy_diff = min_entropy_diff\n",
    "\n",
    "    def _entropy(self, s: np.ndarray) -> float:\n",
    "        y = s[:, -1]\n",
    "        positive_ratio = np.sum(y) / len(y)\n",
    "        return -positive_ratio * np.log(positive_ratio + 1e-3) - (\n",
    "            1 - positive_ratio\n",
    "        ) * np.log(1 - positive_ratio + 1e-3)\n",
    "\n",
    "    def _find_split(\n",
    "        self, s: np.ndarray\n",
    "    ) -> Tuple[int, float, float, np.ndarray, np.ndarray]:\n",
    "        min_split_entropy = np.inf\n",
    "        best_split_attr_idx = None\n",
    "        best_threshold = None\n",
    "        best_left_subset = None\n",
    "        best_right_subset = None\n",
    "\n",
    "        for attribute_idx in range(s.shape[1] - 1):\n",
    "            for threshold in np.unique(s[:, attribute_idx]):\n",
    "\n",
    "                left_subset = np.array(\n",
    "                    [row for row in s if row[attribute_idx] < threshold]\n",
    "                )\n",
    "                right_subset = np.array(\n",
    "                    [row for row in s if row[attribute_idx] >= threshold]\n",
    "                )\n",
    "\n",
    "                left_entropy = (\n",
    "                    (len(left_subset) / len(s)) * self._entropy(left_subset)\n",
    "                    if left_subset.shape[0] > 0\n",
    "                    else 0\n",
    "                )\n",
    "                right_entropy = (\n",
    "                    (len(right_subset) / len(s)) * self._entropy(right_subset)\n",
    "                    if right_subset.shape[0] > 0\n",
    "                    else 0\n",
    "                )\n",
    "\n",
    "                split_entropy = left_entropy + right_entropy\n",
    "                if split_entropy < min_split_entropy:\n",
    "                    min_split_entropy = split_entropy\n",
    "                    best_split_attr_idx = attribute_idx\n",
    "                    best_threshold = threshold\n",
    "                    best_left_subset = left_subset\n",
    "                    best_right_subset = right_subset\n",
    "\n",
    "        return (\n",
    "            best_split_attr_idx,\n",
    "            best_threshold,\n",
    "            min_split_entropy,\n",
    "            best_left_subset,\n",
    "            best_right_subset,\n",
    "        )\n",
    "\n",
    "    def _build_id3(self, dataset: np.ndarray, depth: int) -> Node:\n",
    "        if dataset.shape[0] == 0:\n",
    "            return None\n",
    "\n",
    "        X, y = dataset[:, :-1], dataset[:, -1].astype(\"int64\")\n",
    "\n",
    "        # all examples classified correctly\n",
    "        if np.all(y == 0.0):\n",
    "            return Node(\n",
    "                depth=depth,\n",
    "                values=[np.bincount(y)[0], 0],\n",
    "                entropy=0.0,\n",
    "                label=np.argmax([np.bincount(y)[0], 0]),\n",
    "                samples=dataset.shape[0],\n",
    "            )\n",
    "        if np.all(y == 1.0):\n",
    "            return Node(\n",
    "                depth=depth,\n",
    "                values=np.bincount(y),\n",
    "                entropy=0.0,\n",
    "                label=np.argmax(np.bincount(y)),\n",
    "                samples=dataset.shape[0],\n",
    "            )\n",
    "\n",
    "        # no attributes to split upon\n",
    "        if X.shape[1] == 0:\n",
    "            return Node(\n",
    "                depth=depth,\n",
    "                values=np.bincount(np.squeeze(y, axis=1)),\n",
    "                entropy=self._entropy(dataset),\n",
    "                label=np.argmax(np.bincount(np.squeeze(y, axis=1))),\n",
    "                samples=X.shape[0],\n",
    "            )\n",
    "\n",
    "        (\n",
    "            best_split_attr_idx,\n",
    "            best_threshold,\n",
    "            min_split_entropy,\n",
    "            best_left_subset,\n",
    "            best_right_subset,\n",
    "        ) = self._find_split(dataset)\n",
    "\n",
    "        # decide about splitting\n",
    "        if (\n",
    "            depth < self.max_depth\n",
    "            and (self._entropy(dataset) - min_split_entropy) > self.min_entropy_diff\n",
    "        ):\n",
    "            root = Node(\n",
    "                depth=depth,\n",
    "                split_attribute=best_split_attr_idx,\n",
    "                split_threshold=best_threshold,\n",
    "                entropy=self._entropy(dataset),\n",
    "                samples=dataset.shape[0],\n",
    "                values=np.bincount(np.squeeze(y)),\n",
    "                label=np.argmax(np.bincount(np.squeeze(y))),\n",
    "            )\n",
    "            root.left = self._build_id3(best_left_subset, depth=depth + 1)\n",
    "            root.right = self._build_id3(best_right_subset, depth=depth + 1)\n",
    "\n",
    "        else:\n",
    "            root = Node(\n",
    "                depth=depth,\n",
    "                entropy=self._entropy(dataset),\n",
    "                samples=dataset.shape[0],\n",
    "                values=np.bincount(np.squeeze(y)),\n",
    "                label=np.argmax(np.bincount(np.squeeze(y))),\n",
    "            )\n",
    "\n",
    "        return root\n",
    "\n",
    "    def visualize(self) -> None:\n",
    "        queue = list()\n",
    "        queue.append(self.root)\n",
    "\n",
    "        while queue:\n",
    "            v = queue.pop(0)\n",
    "            print(v)\n",
    "            if v.left is not None:\n",
    "                queue.append(v.left)\n",
    "            if v.left is not None:\n",
    "                queue.append(v.right)\n",
    "\n",
    "    def fit(self, X: np.ndarray, y: np.ndarray) -> None:\n",
    "        if len(y.shape) == 1:\n",
    "            y = np.expand_dims(y, axis=1)\n",
    "\n",
    "        dataset = np.concatenate([X, y], axis=1)\n",
    "        self.root = self._build_id3(dataset, depth=0)\n",
    "\n",
    "    def _predict_sample(self, sample: np.ndarray) -> int:\n",
    "        current_node = self.root\n",
    "        current_prediction = current_node.label\n",
    "        while current_node.split_attribute is not None:\n",
    "            if sample[current_node.split_attribute] < current_node.split_threshold:\n",
    "                current_prediction = current_node.left.label\n",
    "                current_node = current_node.left\n",
    "            else:\n",
    "                current_prediction = current_node.right.label\n",
    "                current_node = current_node.right\n",
    "\n",
    "        return current_prediction\n",
    "\n",
    "    def predict(self, X: np.ndarray) -> np.ndarray:\n",
    "        if self.root is not None:\n",
    "            return np.array([self._predict_sample(sample) for sample in X])\n",
    "        else:\n",
    "            raise Exception(\"Decision Tree is not trained\")\n"
   ]
  },
  {
   "cell_type": "code",
   "execution_count": 7,
   "metadata": {},
   "outputs": [],
   "source": [
    "tree = DecisionTree(max_depth=3, min_entropy_diff=0.01)\n",
    "tree.fit(X_train, y_train)\n"
   ]
  },
  {
   "cell_type": "code",
   "execution_count": 8,
   "metadata": {},
   "outputs": [
    {
     "name": "stdout",
     "output_type": "stream",
     "text": [
      "Depth: 0, Split attribute index: 7, threshold: 0.05182, entropy: 0.658, samples: 455, values: [169 286], label: 1\n",
      "Depth: 1, Split attribute index: 20, threshold: 16.89, entropy: 0.216, samples: 282, values: [ 16 266], label: 1\n",
      "Depth: 1, Split attribute index: 22, threshold: 114.6, entropy: 0.356, samples: 173, values: [153  20], label: 0\n",
      "Depth: 2, Split attribute index: 10, threshold: 0.645, entropy: 0.092, samples: 263, values: [  5 258], label: 1\n",
      "Depth: 2, Split attribute index: 1, threshold: 16.68, entropy: 0.679, samples: 19, values: [11  8], label: 0\n",
      "Depth: 2, Split attribute index: 21, threshold: 25.84, entropy: 0.687, samples: 44, values: [24 20], label: 0\n",
      "Depth: 2, Split attribute index: None, threshold: None, entropy: 0.000, samples: 129, values: [129, 0], label: 0\n",
      "Depth: 3, Split attribute index: None, threshold: None, entropy: 0.061, samples: 260, values: [  3 257], label: 1\n",
      "Depth: 3, Split attribute index: None, threshold: None, entropy: 0.635, samples: 3, values: [2 1], label: 0\n",
      "Depth: 3, Split attribute index: None, threshold: None, entropy: 0.000, samples: 6, values: [0 6], label: 1\n",
      "Depth: 3, Split attribute index: None, threshold: None, entropy: 0.427, samples: 13, values: [11  2], label: 0\n",
      "Depth: 3, Split attribute index: None, threshold: None, entropy: 0.312, samples: 21, values: [ 2 19], label: 1\n",
      "Depth: 3, Split attribute index: None, threshold: None, entropy: 0.177, samples: 23, values: [22  1], label: 0\n"
     ]
    }
   ],
   "source": [
    "tree.visualize()\n"
   ]
  },
  {
   "cell_type": "code",
   "execution_count": 9,
   "metadata": {},
   "outputs": [],
   "source": [
    "predictions = tree.predict(X_test)\n"
   ]
  },
  {
   "cell_type": "code",
   "execution_count": 10,
   "metadata": {},
   "outputs": [
    {
     "name": "stdout",
     "output_type": "stream",
     "text": [
      "              precision    recall  f1-score   support\n",
      "\n",
      "           0       0.97      0.91      0.94        43\n",
      "           1       0.95      0.99      0.97        71\n",
      "\n",
      "    accuracy                           0.96       114\n",
      "   macro avg       0.96      0.95      0.95       114\n",
      "weighted avg       0.96      0.96      0.96       114\n",
      "\n"
     ]
    }
   ],
   "source": [
    "print(classification_report(y_test, predictions))\n"
   ]
  },
  {
   "cell_type": "code",
   "execution_count": null,
   "metadata": {},
   "outputs": [],
   "source": []
  }
 ],
 "metadata": {
  "interpreter": {
   "hash": "3387639f90ff78668b9166b82532e0a4254e4114bba40ba72563f9784614f2c3"
  },
  "kernelspec": {
   "display_name": "venv",
   "language": "python",
   "name": "venv"
  },
  "language_info": {
   "codemirror_mode": {
    "name": "ipython",
    "version": 3
   },
   "file_extension": ".py",
   "mimetype": "text/x-python",
   "name": "python",
   "nbconvert_exporter": "python",
   "pygments_lexer": "ipython3",
   "version": "3.10.4"
  }
 },
 "nbformat": 4,
 "nbformat_minor": 2
}
