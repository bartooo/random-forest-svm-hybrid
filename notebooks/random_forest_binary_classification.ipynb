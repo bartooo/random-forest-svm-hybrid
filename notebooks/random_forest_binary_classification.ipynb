{
 "cells": [
  {
   "cell_type": "code",
   "execution_count": 1,
   "metadata": {},
   "outputs": [],
   "source": [
    "import numpy as np\n",
    "from sklearn.datasets import load_breast_cancer, load_iris\n",
    "from sklearn.model_selection import train_test_split\n",
    "from sklearn.metrics import classification_report\n",
    "from sklearn.ensemble import RandomForestClassifier\n",
    "from sklearn.tree import export_graphviz\n",
    "import graphviz  ## REQUIRES GRAPHVIZ INSTALLED!\n",
    "from typing import Tuple\n"
   ]
  },
  {
   "cell_type": "code",
   "execution_count": 2,
   "metadata": {},
   "outputs": [],
   "source": [
    "np.random.seed(42)\n"
   ]
  },
  {
   "cell_type": "code",
   "execution_count": 3,
   "metadata": {},
   "outputs": [],
   "source": [
    "data = load_breast_cancer()\n",
    "X = data.data\n",
    "y = data.target\n"
   ]
  },
  {
   "cell_type": "code",
   "execution_count": 4,
   "metadata": {},
   "outputs": [
    {
     "data": {
      "text/plain": [
       "((569, 30), (569,))"
      ]
     },
     "execution_count": 4,
     "metadata": {},
     "output_type": "execute_result"
    }
   ],
   "source": [
    "X.shape, y.shape\n"
   ]
  },
  {
   "cell_type": "code",
   "execution_count": 5,
   "metadata": {},
   "outputs": [],
   "source": [
    "X_train, X_test, y_train, y_test = train_test_split(\n",
    "    X, y, test_size=0.20, random_state=42\n",
    ")\n"
   ]
  },
  {
   "cell_type": "code",
   "execution_count": 6,
   "metadata": {},
   "outputs": [],
   "source": [
    "class Node:\n",
    "    def __init__(\n",
    "        self,\n",
    "        depth: int,\n",
    "        split_attribute_idx: int = None,\n",
    "        split_attribute_name: str = None,\n",
    "        split_threshold: float = None,\n",
    "        entropy: float = None,\n",
    "        samples: int = None,\n",
    "        values: np.ndarray = None,\n",
    "        label: int = None,\n",
    "        label_name: str = None,\n",
    "    ) -> None:\n",
    "        self.depth = depth\n",
    "        self.split_attribute_idx = split_attribute_idx\n",
    "        self.split_attribute_name = split_attribute_name\n",
    "        self.split_threshold = split_threshold\n",
    "        self.entropy = entropy\n",
    "        self.samples = samples\n",
    "        self.values = values\n",
    "        self.label = label\n",
    "        self.label_name = label_name\n",
    "        self.right = None\n",
    "        self.left = None\n",
    "\n",
    "    def __str__(self):\n",
    "        node_str = f\"Depth: {self.depth}, \"\n",
    "        if self.split_attribute_name is not None:\n",
    "            node_str += f\"Split attribute: {self.split_attribute_name}, threshold: {self.split_threshold}, \"\n",
    "        elif self.split_attribute_idx is not None:\n",
    "            node_str += f\"Split attribute index: {self.split_attribute_idx}, threshold: {self.split_threshold}, \"\n",
    "        if self.label_name is not None:\n",
    "            node_str += f\"entropy: {self.entropy:.3f}, samples: {self.samples}, values: {self.values}, label: {self.label_name}\"\n",
    "        else:\n",
    "            node_str += f\"entropy: {self.entropy:.3f}, samples: {self.samples}, values: {self.values}, label: {self.label}\"\n",
    "        return node_str\n"
   ]
  },
  {
   "cell_type": "code",
   "execution_count": 7,
   "metadata": {},
   "outputs": [],
   "source": [
    "class DecisionTree:\n",
    "    def __init__(\n",
    "        self,\n",
    "        max_depth: int,\n",
    "        min_entropy_diff: float,\n",
    "        min_node_size: int,\n",
    "        max_num_attributes: int = None,\n",
    "    ) -> None:\n",
    "        self.root = None\n",
    "        self.max_depth = max_depth\n",
    "        self.min_entropy_diff = min_entropy_diff\n",
    "        self.min_node_size = min_node_size\n",
    "        self.max_num_attributes = max_num_attributes\n",
    "\n",
    "    def _entropy(self, s: np.ndarray) -> float:\n",
    "        \"\"\"Calculates entropy of current dataset s\n",
    "        according to formula:\n",
    "        H(s) = sum(-p(x)*log2(p(x))),\n",
    "        where p(x) is the proportion of the number of elements\n",
    "        in class x to the number of elements in set s\n",
    "\n",
    "        Args:\n",
    "            s (np.ndarray): current dataset to calculate entropy on\n",
    "\n",
    "        Returns:\n",
    "            float: entropy of dataset s\n",
    "        \"\"\"\n",
    "        y = s[:, -1]\n",
    "        result = 0\n",
    "        counts = np.unique(y, return_counts=True)[1]\n",
    "        for count in counts:\n",
    "            proportion = count / y.shape[0]\n",
    "            result += -proportion * np.log2(proportion + 1e-5)\n",
    "        return result\n",
    "\n",
    "    def _find_split(\n",
    "        self, s: np.ndarray\n",
    "    ) -> Tuple[int, float, float, np.ndarray, np.ndarray]:\n",
    "        \"\"\"Finds best attribute and threshold to split node on\n",
    "\n",
    "        Args:\n",
    "            s (np.ndarray): current dataset of node\n",
    "\n",
    "        Returns:\n",
    "            Tuple[int, float, float, np.ndarray, np.ndarray]: split attribute index, threshold, split entropy, left subset, right subset\n",
    "        \"\"\"\n",
    "        min_split_entropy = np.inf\n",
    "        best_split_attr_idx = None\n",
    "        best_threshold = None\n",
    "        best_left_subset = None\n",
    "        best_right_subset = None\n",
    "\n",
    "        possible_attributes = (\n",
    "            range(s.shape[1] - 1)\n",
    "            if self.max_num_attributes is None\n",
    "            else np.random.choice(\n",
    "                range(s.shape[1] - 1), size=self.max_num_attributes, replace=False\n",
    "            )\n",
    "        )\n",
    "        for attribute_idx in possible_attributes:\n",
    "            for threshold in np.unique(s[:, attribute_idx]):\n",
    "\n",
    "                left_subset = np.array(\n",
    "                    [row for row in s if row[attribute_idx] < threshold]\n",
    "                )\n",
    "                right_subset = np.array(\n",
    "                    [row for row in s if row[attribute_idx] >= threshold]\n",
    "                )\n",
    "\n",
    "                left_entropy = (\n",
    "                    (len(left_subset) / len(s)) * self._entropy(left_subset)\n",
    "                    if left_subset.shape[0] > 0\n",
    "                    else 0\n",
    "                )\n",
    "                right_entropy = (\n",
    "                    (len(right_subset) / len(s)) * self._entropy(right_subset)\n",
    "                    if right_subset.shape[0] > 0\n",
    "                    else 0\n",
    "                )\n",
    "\n",
    "                split_entropy = left_entropy + right_entropy\n",
    "                if split_entropy < min_split_entropy:\n",
    "                    min_split_entropy = split_entropy\n",
    "                    best_split_attr_idx = attribute_idx\n",
    "                    best_threshold = threshold\n",
    "                    best_left_subset = left_subset\n",
    "                    best_right_subset = right_subset\n",
    "\n",
    "        return (\n",
    "            best_split_attr_idx,\n",
    "            best_threshold,\n",
    "            min_split_entropy,\n",
    "            best_left_subset,\n",
    "            best_right_subset,\n",
    "        )\n",
    "\n",
    "    def _build_id3(\n",
    "        self,\n",
    "        dataset: np.ndarray,\n",
    "        depth: int,\n",
    "        orig_classes: np.ndarray,\n",
    "        attribute_labels: np.ndarray = None,\n",
    "        class_labels: np.ndarray = None,\n",
    "    ) -> Node:\n",
    "        if dataset.shape[0] == 0:\n",
    "            return None\n",
    "\n",
    "        X, y = dataset[:, :-1], dataset[:, -1].astype(\"int64\")\n",
    "\n",
    "        # all examples classified as one class\n",
    "        if np.unique(y).shape[0] == 1:\n",
    "            return Node(\n",
    "                depth=depth,\n",
    "                values=[y.tolist().count(c) for c in orig_classes],\n",
    "                entropy=0.0,\n",
    "                label=np.argmax([y.tolist().count(c) for c in orig_classes]),\n",
    "                label_name=class_labels[\n",
    "                    np.argmax([y.tolist().count(c) for c in orig_classes])\n",
    "                ]\n",
    "                if class_labels is not None\n",
    "                else np.argmax([y.tolist().count(c) for c in orig_classes]),\n",
    "                samples=dataset.shape[0],\n",
    "            )\n",
    "\n",
    "        # no attributes to split upon\n",
    "        if X.shape[1] == 0:\n",
    "            return Node(\n",
    "                depth=depth,\n",
    "                values=[y.tolist().count(c) for c in orig_classes],\n",
    "                entropy=self._entropy(dataset),\n",
    "                label=np.argmax([y.tolist().count(c) for c in orig_classes]),\n",
    "                label_name=class_labels[\n",
    "                    np.argmax([y.tolist().count(c) for c in orig_classes])\n",
    "                ]\n",
    "                if class_labels is not None\n",
    "                else np.argmax([y.tolist().count(c) for c in orig_classes]),\n",
    "                samples=dataset.shape[0],\n",
    "            )\n",
    "\n",
    "        (\n",
    "            best_split_attr_idx,\n",
    "            best_threshold,\n",
    "            min_split_entropy,\n",
    "            best_left_subset,\n",
    "            best_right_subset,\n",
    "        ) = self._find_split(dataset)\n",
    "\n",
    "        # decide about splitting\n",
    "        if (\n",
    "            depth < self.max_depth\n",
    "            and (self._entropy(dataset) - min_split_entropy) > self.min_entropy_diff\n",
    "            and (best_left_subset.shape[0] > self.min_node_size)\n",
    "            and (best_right_subset.shape[0] > self.min_node_size)\n",
    "        ):\n",
    "            root = Node(\n",
    "                depth=depth,\n",
    "                split_attribute_idx=best_split_attr_idx,\n",
    "                split_attribute_name=attribute_labels[best_split_attr_idx]\n",
    "                if attribute_labels is not None\n",
    "                else None,\n",
    "                split_threshold=best_threshold,\n",
    "                entropy=self._entropy(dataset),\n",
    "                samples=dataset.shape[0],\n",
    "                values=[y.tolist().count(c) for c in orig_classes],\n",
    "                label=np.argmax([y.tolist().count(c) for c in orig_classes]),\n",
    "                label_name=class_labels[\n",
    "                    np.argmax([y.tolist().count(c) for c in orig_classes])\n",
    "                ]\n",
    "                if class_labels is not None\n",
    "                else np.argmax([y.tolist().count(c) for c in orig_classes]),\n",
    "            )\n",
    "            root.left = self._build_id3(\n",
    "                best_left_subset,\n",
    "                depth=depth + 1,\n",
    "                orig_classes=orig_classes,\n",
    "                attribute_labels=attribute_labels,\n",
    "                class_labels=class_labels,\n",
    "            )\n",
    "            root.right = self._build_id3(\n",
    "                best_right_subset,\n",
    "                depth=depth + 1,\n",
    "                orig_classes=orig_classes,\n",
    "                attribute_labels=attribute_labels,\n",
    "                class_labels=class_labels,\n",
    "            )\n",
    "\n",
    "        else:\n",
    "            root = Node(\n",
    "                depth=depth,\n",
    "                entropy=self._entropy(dataset),\n",
    "                samples=dataset.shape[0],\n",
    "                values=[y.tolist().count(c) for c in orig_classes],\n",
    "                label=np.argmax([y.tolist().count(c) for c in orig_classes]),\n",
    "                label_name=class_labels[\n",
    "                    np.argmax([y.tolist().count(c) for c in orig_classes])\n",
    "                ]\n",
    "                if class_labels is not None\n",
    "                else np.argmax([y.tolist().count(c) for c in orig_classes]),\n",
    "            )\n",
    "\n",
    "        return root\n",
    "\n",
    "    def visualize(self) -> None:\n",
    "        queue = list()\n",
    "        queue.append(self.root)\n",
    "\n",
    "        while queue:\n",
    "            v = queue.pop(0)\n",
    "            print(v)\n",
    "            if v.left is not None:\n",
    "                queue.append(v.left)\n",
    "            if v.left is not None:\n",
    "                queue.append(v.right)\n",
    "\n",
    "    def fit(\n",
    "        self,\n",
    "        X: np.ndarray,\n",
    "        y: np.ndarray,\n",
    "        attribute_labels: np.ndarray = None,\n",
    "        class_labels: np.ndarray = None,\n",
    "    ) -> None:\n",
    "        if attribute_labels is not None:\n",
    "            if attribute_labels.shape[0] != X.shape[1]:\n",
    "                raise Exception(\"Invalid shape of given attribute labels\")\n",
    "\n",
    "        if class_labels is not None:\n",
    "            if class_labels.shape[0] != np.unique(y).shape[0]:\n",
    "                raise Exception(\"Invalid shape of given class labels\")\n",
    "\n",
    "        if len(y.shape) == 1:\n",
    "            y = np.expand_dims(y, axis=1)\n",
    "\n",
    "        dataset = np.concatenate([X, y], axis=1)\n",
    "        self.root = self._build_id3(\n",
    "            dataset,\n",
    "            depth=0,\n",
    "            orig_classes=np.unique(y),\n",
    "            attribute_labels=attribute_labels,\n",
    "            class_labels=class_labels,\n",
    "        )\n",
    "\n",
    "    def _predict_sample(self, sample: np.ndarray) -> int:\n",
    "        current_node = self.root\n",
    "        current_prediction = current_node.label\n",
    "        while current_node.split_attribute_idx is not None:\n",
    "            if sample[current_node.split_attribute_idx] < current_node.split_threshold:\n",
    "                current_prediction = current_node.left.label\n",
    "                current_node = current_node.left\n",
    "            else:\n",
    "                current_prediction = current_node.right.label\n",
    "                current_node = current_node.right\n",
    "\n",
    "        return current_prediction\n",
    "\n",
    "    def predict(self, X: np.ndarray) -> np.ndarray:\n",
    "        if len(X.shape) == 1:\n",
    "            X = np.expand_dims(X, axis=0)\n",
    "\n",
    "        if self.root is not None:\n",
    "            return np.array([self._predict_sample(sample) for sample in X])\n",
    "        else:\n",
    "            raise Exception(\"Decision Tree is not trained yet\")\n"
   ]
  },
  {
   "cell_type": "code",
   "execution_count": 8,
   "metadata": {},
   "outputs": [],
   "source": [
    "class RandomForest:\n",
    "    def __init__(\n",
    "        self,\n",
    "        num_trees: int,\n",
    "        tree_max_depth: int,\n",
    "        tree_min_entropy_diff: float,\n",
    "        tree_min_node_size: int,\n",
    "        tree_max_num_attributes: int = None,\n",
    "    ):\n",
    "        self.tree_max_depth = tree_max_depth\n",
    "        self.tree_min_entropy_diff = tree_min_entropy_diff\n",
    "        self.tree_min_node_size = tree_min_node_size\n",
    "        self.tree_max_num_attributes = tree_max_num_attributes\n",
    "        self.num_trees = num_trees\n",
    "        self.trees = []\n",
    "\n",
    "    def _bootstrap_dataset(self, dataset: np.ndarray):\n",
    "        chosen_idxs = np.random.choice(\n",
    "            dataset.shape[0], size=dataset.shape[0], replace=True\n",
    "        )\n",
    "        return dataset[chosen_idxs]\n",
    "\n",
    "    def fit(\n",
    "        self,\n",
    "        X: np.ndarray,\n",
    "        y: np.ndarray,\n",
    "        attribute_labels: np.ndarray = None,\n",
    "        class_labels: np.ndarray = None,\n",
    "    ) -> None:\n",
    "        if len(y.shape) == 1:\n",
    "            y = np.expand_dims(y, axis=1)\n",
    "\n",
    "        dataset = np.concatenate([X, y], axis=1)\n",
    "        if self.tree_max_num_attributes > dataset.shape[1] - 1:\n",
    "            raise Exception(\"Invalid number of max attributes in Decision Tree\")\n",
    "\n",
    "        for _ in range(self.num_trees):\n",
    "            boostrapped_dataset = self._bootstrap_dataset(dataset)\n",
    "            tree = DecisionTree(\n",
    "                max_depth=self.tree_max_depth,\n",
    "                min_entropy_diff=self.tree_min_entropy_diff,\n",
    "                min_node_size=self.tree_min_node_size,\n",
    "                max_num_attributes=boostrapped_dataset.shape[1] - 1\n",
    "                if self.tree_max_num_attributes is None\n",
    "                else self.tree_max_num_attributes,\n",
    "            )\n",
    "            tree.fit(\n",
    "                boostrapped_dataset[:, :-1],\n",
    "                boostrapped_dataset[:, -1],\n",
    "                attribute_labels=attribute_labels,\n",
    "                class_labels=class_labels,\n",
    "            )\n",
    "            self.trees.append(tree)\n",
    "\n",
    "    def _predict_sample(self, sample: np.ndarray) -> int:\n",
    "        return np.bincount(\n",
    "            np.squeeze([tree.predict(sample) for tree in self.trees])\n",
    "        ).argmax()\n",
    "\n",
    "    def predict(self, X: np.ndarray) -> np.ndarray:\n",
    "        if len(X.shape) == 1:\n",
    "            X = np.expand_dims(X, axis=0)\n",
    "\n",
    "        if len(self.trees) > 0:\n",
    "            return np.array([self._predict_sample(sample) for sample in X])\n",
    "        else:\n",
    "            raise Exception(\"Random Forest is not trained yet\")\n",
    "\n",
    "    def visualize(self) -> None:\n",
    "        for i, tree in enumerate(self.trees):\n",
    "            print(\"-\" * 100)\n",
    "            print(f\"Tree {i+1}:\")\n",
    "            tree.visualize()\n",
    "            print(\"-\" * 100)\n"
   ]
  },
  {
   "cell_type": "code",
   "execution_count": 9,
   "metadata": {},
   "outputs": [],
   "source": [
    "random_forest = RandomForest(\n",
    "    tree_max_depth=2,\n",
    "    tree_min_entropy_diff=0.01,\n",
    "    tree_min_node_size=50,\n",
    "    tree_max_num_attributes=3,\n",
    "    num_trees=3,\n",
    ")\n"
   ]
  },
  {
   "cell_type": "code",
   "execution_count": 10,
   "metadata": {},
   "outputs": [],
   "source": [
    "random_forest.fit(\n",
    "    X_train,\n",
    "    y_train,\n",
    "    attribute_labels=data.feature_names,\n",
    "    class_labels=data.target_names,\n",
    ")\n"
   ]
  },
  {
   "cell_type": "code",
   "execution_count": 11,
   "metadata": {},
   "outputs": [
    {
     "name": "stdout",
     "output_type": "stream",
     "text": [
      "----------------------------------------------------------------------------------------------------\n",
      "Tree 1:\n",
      "Depth: 0, Split attribute: worst concave points, threshold: 0.1112, entropy: 0.963, samples: 455, values: [176, 279], label: benign\n",
      "Depth: 1, entropy: 0.265, samples: 266, values: [12, 254], label: benign\n",
      "Depth: 1, Split attribute: mean area, threshold: 793.2, entropy: 0.564, samples: 189, values: [164, 25], label: malignant\n",
      "Depth: 2, entropy: 0.887, samples: 82, values: [57, 25], label: malignant\n",
      "Depth: 2, entropy: 0.000, samples: 107, values: [107, 0], label: malignant\n",
      "----------------------------------------------------------------------------------------------------\n",
      "----------------------------------------------------------------------------------------------------\n",
      "Tree 2:\n",
      "Depth: 0, Split attribute: worst perimeter, threshold: 101.7, entropy: 0.941, samples: 455, values: [163, 292], label: benign\n",
      "Depth: 1, entropy: 0.137, samples: 260, values: [5, 255], label: benign\n",
      "Depth: 1, Split attribute: worst concave points, threshold: 0.1418, entropy: 0.701, samples: 195, values: [158, 37], label: malignant\n",
      "Depth: 2, entropy: 0.980, samples: 60, values: [25, 35], label: benign\n",
      "Depth: 2, entropy: 0.111, samples: 135, values: [133, 2], label: malignant\n",
      "----------------------------------------------------------------------------------------------------\n",
      "----------------------------------------------------------------------------------------------------\n",
      "Tree 3:\n",
      "Depth: 0, Split attribute: worst texture, threshold: 24.57, entropy: 0.934, samples: 455, values: [159, 296], label: benign\n",
      "Depth: 1, entropy: 0.499, samples: 228, values: [25, 203], label: benign\n",
      "Depth: 1, Split attribute: worst radius, threshold: 16.82, entropy: 0.976, samples: 227, values: [134, 93], label: malignant\n",
      "Depth: 2, entropy: 0.660, samples: 111, values: [19, 92], label: benign\n",
      "Depth: 2, entropy: 0.071, samples: 116, values: [115, 1], label: malignant\n",
      "----------------------------------------------------------------------------------------------------\n"
     ]
    }
   ],
   "source": [
    "random_forest.visualize()\n"
   ]
  },
  {
   "cell_type": "code",
   "execution_count": 12,
   "metadata": {},
   "outputs": [],
   "source": [
    "predictions = random_forest.predict(X_test)\n"
   ]
  },
  {
   "cell_type": "code",
   "execution_count": 13,
   "metadata": {},
   "outputs": [
    {
     "name": "stdout",
     "output_type": "stream",
     "text": [
      "              precision    recall  f1-score   support\n",
      "\n",
      "           0       0.95      0.86      0.90        43\n",
      "           1       0.92      0.97      0.95        71\n",
      "\n",
      "    accuracy                           0.93       114\n",
      "   macro avg       0.93      0.92      0.92       114\n",
      "weighted avg       0.93      0.93      0.93       114\n",
      "\n"
     ]
    }
   ],
   "source": [
    "print(classification_report(y_test, predictions))\n"
   ]
  },
  {
   "cell_type": "markdown",
   "metadata": {},
   "source": [
    "#### Model from Sklearn as reference"
   ]
  },
  {
   "cell_type": "code",
   "execution_count": 14,
   "metadata": {},
   "outputs": [],
   "source": [
    "sklearn_random_forest = RandomForestClassifier(\n",
    "    n_estimators=3,\n",
    "    criterion=\"entropy\",\n",
    "    max_depth=2,\n",
    "    min_samples_split=50,\n",
    "    max_features=3,\n",
    "    min_impurity_decrease=0.01,\n",
    "    random_state=42,\n",
    "    min_samples_leaf=50,\n",
    ")\n"
   ]
  },
  {
   "cell_type": "code",
   "execution_count": 15,
   "metadata": {},
   "outputs": [
    {
     "data": {
      "text/plain": [
       "RandomForestClassifier(criterion='entropy', max_depth=2, max_features=3,\n",
       "                       min_impurity_decrease=0.01, min_samples_leaf=50,\n",
       "                       min_samples_split=50, n_estimators=3, random_state=42)"
      ]
     },
     "execution_count": 15,
     "metadata": {},
     "output_type": "execute_result"
    }
   ],
   "source": [
    "sklearn_random_forest.fit(X_train, y_train)\n"
   ]
  },
  {
   "cell_type": "code",
   "execution_count": 16,
   "metadata": {},
   "outputs": [
    {
     "data": {
      "image/svg+xml": "<?xml version=\"1.0\" encoding=\"UTF-8\" standalone=\"no\"?>\n<!DOCTYPE svg PUBLIC \"-//W3C//DTD SVG 1.1//EN\"\n \"http://www.w3.org/Graphics/SVG/1.1/DTD/svg11.dtd\">\n<!-- Generated by graphviz version 3.0.0 (20220226.1711)\n -->\n<!-- Title: Tree Pages: 1 -->\n<svg width=\"581pt\" height=\"314pt\"\n viewBox=\"0.00 0.00 581.00 314.00\" xmlns=\"http://www.w3.org/2000/svg\" xmlns:xlink=\"http://www.w3.org/1999/xlink\">\n<g id=\"graph0\" class=\"graph\" transform=\"scale(1 1) rotate(0) translate(4 310)\">\n<title>Tree</title>\n<polygon fill=\"white\" stroke=\"transparent\" points=\"-4,4 -4,-310 577,-310 577,4 -4,4\"/>\n<!-- 0 -->\n<g id=\"node1\" class=\"node\">\n<title>0</title>\n<path fill=\"#b1d9f5\" stroke=\"black\" d=\"M364.5,-306C364.5,-306 186.5,-306 186.5,-306 180.5,-306 174.5,-300 174.5,-294 174.5,-294 174.5,-235 174.5,-235 174.5,-229 180.5,-223 186.5,-223 186.5,-223 364.5,-223 364.5,-223 370.5,-223 376.5,-229 376.5,-235 376.5,-235 376.5,-294 376.5,-294 376.5,-300 370.5,-306 364.5,-306\"/>\n<text text-anchor=\"middle\" x=\"275.5\" y=\"-290.8\" font-family=\"Helvetica,sans-Serif\" font-size=\"14.00\">worst concave points &lt;= 0.11</text>\n<text text-anchor=\"middle\" x=\"275.5\" y=\"-275.8\" font-family=\"Helvetica,sans-Serif\" font-size=\"14.00\">entropy = 0.957</text>\n<text text-anchor=\"middle\" x=\"275.5\" y=\"-260.8\" font-family=\"Helvetica,sans-Serif\" font-size=\"14.00\">samples = 281</text>\n<text text-anchor=\"middle\" x=\"275.5\" y=\"-245.8\" font-family=\"Helvetica,sans-Serif\" font-size=\"14.00\">value = [172, 283]</text>\n<text text-anchor=\"middle\" x=\"275.5\" y=\"-230.8\" font-family=\"Helvetica,sans-Serif\" font-size=\"14.00\">class = benign</text>\n</g>\n<!-- 1 -->\n<g id=\"node2\" class=\"node\">\n<title>1</title>\n<path fill=\"#3d9fe6\" stroke=\"black\" d=\"M255.5,-187C255.5,-187 67.5,-187 67.5,-187 61.5,-187 55.5,-181 55.5,-175 55.5,-175 55.5,-116 55.5,-116 55.5,-110 61.5,-104 67.5,-104 67.5,-104 255.5,-104 255.5,-104 261.5,-104 267.5,-110 267.5,-116 267.5,-116 267.5,-175 267.5,-175 267.5,-181 261.5,-187 255.5,-187\"/>\n<text text-anchor=\"middle\" x=\"161.5\" y=\"-171.8\" font-family=\"Helvetica,sans-Serif\" font-size=\"14.00\">mean concave points &lt;= 0.023</text>\n<text text-anchor=\"middle\" x=\"161.5\" y=\"-156.8\" font-family=\"Helvetica,sans-Serif\" font-size=\"14.00\">entropy = 0.145</text>\n<text text-anchor=\"middle\" x=\"161.5\" y=\"-141.8\" font-family=\"Helvetica,sans-Serif\" font-size=\"14.00\">samples = 151</text>\n<text text-anchor=\"middle\" x=\"161.5\" y=\"-126.8\" font-family=\"Helvetica,sans-Serif\" font-size=\"14.00\">value = [5, 237]</text>\n<text text-anchor=\"middle\" x=\"161.5\" y=\"-111.8\" font-family=\"Helvetica,sans-Serif\" font-size=\"14.00\">class = benign</text>\n</g>\n<!-- 0&#45;&gt;1 -->\n<g id=\"edge1\" class=\"edge\">\n<title>0&#45;&gt;1</title>\n<path fill=\"none\" stroke=\"black\" d=\"M235.95,-222.91C226.93,-213.65 217.26,-203.73 207.99,-194.21\"/>\n<polygon fill=\"black\" stroke=\"black\" points=\"210.47,-191.74 200.98,-187.02 205.45,-196.63 210.47,-191.74\"/>\n<text text-anchor=\"middle\" x=\"200.66\" y=\"-208.32\" font-family=\"Helvetica,sans-Serif\" font-size=\"14.00\">True</text>\n</g>\n<!-- 4 -->\n<g id=\"node5\" class=\"node\">\n<title>4</title>\n<path fill=\"#eca470\" stroke=\"black\" d=\"M483.5,-187C483.5,-187 297.5,-187 297.5,-187 291.5,-187 285.5,-181 285.5,-175 285.5,-175 285.5,-116 285.5,-116 285.5,-110 291.5,-104 297.5,-104 297.5,-104 483.5,-104 483.5,-104 489.5,-104 495.5,-110 495.5,-116 495.5,-116 495.5,-175 495.5,-175 495.5,-181 489.5,-187 483.5,-187\"/>\n<text text-anchor=\"middle\" x=\"390.5\" y=\"-171.8\" font-family=\"Helvetica,sans-Serif\" font-size=\"14.00\">worst concave points &lt;= 0.152</text>\n<text text-anchor=\"middle\" x=\"390.5\" y=\"-156.8\" font-family=\"Helvetica,sans-Serif\" font-size=\"14.00\">entropy = 0.753</text>\n<text text-anchor=\"middle\" x=\"390.5\" y=\"-141.8\" font-family=\"Helvetica,sans-Serif\" font-size=\"14.00\">samples = 130</text>\n<text text-anchor=\"middle\" x=\"390.5\" y=\"-126.8\" font-family=\"Helvetica,sans-Serif\" font-size=\"14.00\">value = [167, 46]</text>\n<text text-anchor=\"middle\" x=\"390.5\" y=\"-111.8\" font-family=\"Helvetica,sans-Serif\" font-size=\"14.00\">class = malignant</text>\n</g>\n<!-- 0&#45;&gt;4 -->\n<g id=\"edge4\" class=\"edge\">\n<title>0&#45;&gt;4</title>\n<path fill=\"none\" stroke=\"black\" d=\"M315.4,-222.91C324.5,-213.65 334.25,-203.73 343.61,-194.21\"/>\n<polygon fill=\"black\" stroke=\"black\" points=\"346.16,-196.61 350.67,-187.02 341.17,-191.7 346.16,-196.61\"/>\n<text text-anchor=\"middle\" x=\"350.89\" y=\"-208.32\" font-family=\"Helvetica,sans-Serif\" font-size=\"14.00\">False</text>\n</g>\n<!-- 2 -->\n<g id=\"node3\" class=\"node\">\n<title>2</title>\n<path fill=\"#399de5\" stroke=\"black\" d=\"M101,-68C101,-68 12,-68 12,-68 6,-68 0,-62 0,-56 0,-56 0,-12 0,-12 0,-6 6,0 12,0 12,0 101,0 101,0 107,0 113,-6 113,-12 113,-12 113,-56 113,-56 113,-62 107,-68 101,-68\"/>\n<text text-anchor=\"middle\" x=\"56.5\" y=\"-52.8\" font-family=\"Helvetica,sans-Serif\" font-size=\"14.00\">entropy = 0.0</text>\n<text text-anchor=\"middle\" x=\"56.5\" y=\"-37.8\" font-family=\"Helvetica,sans-Serif\" font-size=\"14.00\">samples = 92</text>\n<text text-anchor=\"middle\" x=\"56.5\" y=\"-22.8\" font-family=\"Helvetica,sans-Serif\" font-size=\"14.00\">value = [0, 148]</text>\n<text text-anchor=\"middle\" x=\"56.5\" y=\"-7.8\" font-family=\"Helvetica,sans-Serif\" font-size=\"14.00\">class = benign</text>\n</g>\n<!-- 1&#45;&gt;2 -->\n<g id=\"edge2\" class=\"edge\">\n<title>1&#45;&gt;2</title>\n<path fill=\"none\" stroke=\"black\" d=\"M122.4,-103.73C113.57,-94.51 104.19,-84.74 95.37,-75.53\"/>\n<polygon fill=\"black\" stroke=\"black\" points=\"97.88,-73.1 88.43,-68.3 92.83,-77.94 97.88,-73.1\"/>\n</g>\n<!-- 3 -->\n<g id=\"node4\" class=\"node\">\n<title>3</title>\n<path fill=\"#44a3e6\" stroke=\"black\" d=\"M227.5,-68C227.5,-68 143.5,-68 143.5,-68 137.5,-68 131.5,-62 131.5,-56 131.5,-56 131.5,-12 131.5,-12 131.5,-6 137.5,0 143.5,0 143.5,0 227.5,0 227.5,0 233.5,0 239.5,-6 239.5,-12 239.5,-12 239.5,-56 239.5,-56 239.5,-62 233.5,-68 227.5,-68\"/>\n<text text-anchor=\"middle\" x=\"185.5\" y=\"-52.8\" font-family=\"Helvetica,sans-Serif\" font-size=\"14.00\">entropy = 0.3</text>\n<text text-anchor=\"middle\" x=\"185.5\" y=\"-37.8\" font-family=\"Helvetica,sans-Serif\" font-size=\"14.00\">samples = 59</text>\n<text text-anchor=\"middle\" x=\"185.5\" y=\"-22.8\" font-family=\"Helvetica,sans-Serif\" font-size=\"14.00\">value = [5, 89]</text>\n<text text-anchor=\"middle\" x=\"185.5\" y=\"-7.8\" font-family=\"Helvetica,sans-Serif\" font-size=\"14.00\">class = benign</text>\n</g>\n<!-- 1&#45;&gt;3 -->\n<g id=\"edge3\" class=\"edge\">\n<title>1&#45;&gt;3</title>\n<path fill=\"none\" stroke=\"black\" d=\"M170.44,-103.73C172.26,-95.43 174.18,-86.67 176.01,-78.28\"/>\n<polygon fill=\"black\" stroke=\"black\" points=\"179.48,-78.82 178.2,-68.3 172.64,-77.32 179.48,-78.82\"/>\n</g>\n<!-- 5 -->\n<g id=\"node6\" class=\"node\">\n<title>5</title>\n<path fill=\"#fefcfa\" stroke=\"black\" d=\"M418,-68C418,-68 317,-68 317,-68 311,-68 305,-62 305,-56 305,-56 305,-12 305,-12 305,-6 311,0 317,0 317,0 418,0 418,0 424,0 430,-6 430,-12 430,-12 430,-56 430,-56 430,-62 424,-68 418,-68\"/>\n<text text-anchor=\"middle\" x=\"367.5\" y=\"-52.8\" font-family=\"Helvetica,sans-Serif\" font-size=\"14.00\">entropy = 1.0</text>\n<text text-anchor=\"middle\" x=\"367.5\" y=\"-37.8\" font-family=\"Helvetica,sans-Serif\" font-size=\"14.00\">samples = 50</text>\n<text text-anchor=\"middle\" x=\"367.5\" y=\"-22.8\" font-family=\"Helvetica,sans-Serif\" font-size=\"14.00\">value = [41, 40]</text>\n<text text-anchor=\"middle\" x=\"367.5\" y=\"-7.8\" font-family=\"Helvetica,sans-Serif\" font-size=\"14.00\">class = malignant</text>\n</g>\n<!-- 4&#45;&gt;5 -->\n<g id=\"edge5\" class=\"edge\">\n<title>4&#45;&gt;5</title>\n<path fill=\"none\" stroke=\"black\" d=\"M381.94,-103.73C380.19,-95.43 378.35,-86.67 376.59,-78.28\"/>\n<polygon fill=\"black\" stroke=\"black\" points=\"379.98,-77.37 374.49,-68.3 373.12,-78.81 379.98,-77.37\"/>\n</g>\n<!-- 6 -->\n<g id=\"node7\" class=\"node\">\n<title>6</title>\n<path fill=\"#e68742\" stroke=\"black\" d=\"M561,-68C561,-68 460,-68 460,-68 454,-68 448,-62 448,-56 448,-56 448,-12 448,-12 448,-6 454,0 460,0 460,0 561,0 561,0 567,0 573,-6 573,-12 573,-12 573,-56 573,-56 573,-62 567,-68 561,-68\"/>\n<text text-anchor=\"middle\" x=\"510.5\" y=\"-52.8\" font-family=\"Helvetica,sans-Serif\" font-size=\"14.00\">entropy = 0.267</text>\n<text text-anchor=\"middle\" x=\"510.5\" y=\"-37.8\" font-family=\"Helvetica,sans-Serif\" font-size=\"14.00\">samples = 80</text>\n<text text-anchor=\"middle\" x=\"510.5\" y=\"-22.8\" font-family=\"Helvetica,sans-Serif\" font-size=\"14.00\">value = [126, 6]</text>\n<text text-anchor=\"middle\" x=\"510.5\" y=\"-7.8\" font-family=\"Helvetica,sans-Serif\" font-size=\"14.00\">class = malignant</text>\n</g>\n<!-- 4&#45;&gt;6 -->\n<g id=\"edge6\" class=\"edge\">\n<title>4&#45;&gt;6</title>\n<path fill=\"none\" stroke=\"black\" d=\"M435.18,-103.73C445.38,-94.42 456.21,-84.54 466.38,-75.26\"/>\n<polygon fill=\"black\" stroke=\"black\" points=\"468.98,-77.63 474.01,-68.3 464.26,-72.45 468.98,-77.63\"/>\n</g>\n</g>\n</svg>\n",
      "text/plain": [
       "<graphviz.sources.Source at 0x1c39a8e8160>"
      ]
     },
     "execution_count": 16,
     "metadata": {},
     "output_type": "execute_result"
    }
   ],
   "source": [
    "tree0 = sklearn_random_forest.estimators_[0]\n",
    "graph0 = export_graphviz(\n",
    "    tree0,\n",
    "    out_file=None,\n",
    "    feature_names=data.feature_names,\n",
    "    class_names=data.target_names,\n",
    "    rounded=True,\n",
    "    proportion=False,\n",
    "    filled=True,\n",
    ")\n",
    "graphviz.Source(graph0, format=\"png\")\n"
   ]
  },
  {
   "cell_type": "code",
   "execution_count": 17,
   "metadata": {},
   "outputs": [
    {
     "data": {
      "image/svg+xml": "<?xml version=\"1.0\" encoding=\"UTF-8\" standalone=\"no\"?>\n<!DOCTYPE svg PUBLIC \"-//W3C//DTD SVG 1.1//EN\"\n \"http://www.w3.org/Graphics/SVG/1.1/DTD/svg11.dtd\">\n<!-- Generated by graphviz version 3.0.0 (20220226.1711)\n -->\n<!-- Title: Tree Pages: 1 -->\n<svg width=\"550pt\" height=\"314pt\"\n viewBox=\"0.00 0.00 550.00 314.00\" xmlns=\"http://www.w3.org/2000/svg\" xmlns:xlink=\"http://www.w3.org/1999/xlink\">\n<g id=\"graph0\" class=\"graph\" transform=\"scale(1 1) rotate(0) translate(4 310)\">\n<title>Tree</title>\n<polygon fill=\"white\" stroke=\"transparent\" points=\"-4,4 -4,-310 546,-310 546,4 -4,4\"/>\n<!-- 0 -->\n<g id=\"node1\" class=\"node\">\n<title>0</title>\n<path fill=\"#a8d4f4\" stroke=\"black\" d=\"M339,-306C339,-306 190,-306 190,-306 184,-306 178,-300 178,-294 178,-294 178,-235 178,-235 178,-229 184,-223 190,-223 190,-223 339,-223 339,-223 345,-223 351,-229 351,-235 351,-235 351,-294 351,-294 351,-300 345,-306 339,-306\"/>\n<text text-anchor=\"middle\" x=\"264.5\" y=\"-290.8\" font-family=\"Helvetica,sans-Serif\" font-size=\"14.00\">worst concavity &lt;= 0.215</text>\n<text text-anchor=\"middle\" x=\"264.5\" y=\"-275.8\" font-family=\"Helvetica,sans-Serif\" font-size=\"14.00\">entropy = 0.941</text>\n<text text-anchor=\"middle\" x=\"264.5\" y=\"-260.8\" font-family=\"Helvetica,sans-Serif\" font-size=\"14.00\">samples = 286</text>\n<text text-anchor=\"middle\" x=\"264.5\" y=\"-245.8\" font-family=\"Helvetica,sans-Serif\" font-size=\"14.00\">value = [163, 292]</text>\n<text text-anchor=\"middle\" x=\"264.5\" y=\"-230.8\" font-family=\"Helvetica,sans-Serif\" font-size=\"14.00\">class = benign</text>\n</g>\n<!-- 1 -->\n<g id=\"node2\" class=\"node\">\n<title>1</title>\n<path fill=\"#41a1e6\" stroke=\"black\" d=\"M238,-187C238,-187 123,-187 123,-187 117,-187 111,-181 111,-175 111,-175 111,-116 111,-116 111,-110 117,-104 123,-104 123,-104 238,-104 238,-104 244,-104 250,-110 250,-116 250,-116 250,-175 250,-175 250,-181 244,-187 238,-187\"/>\n<text text-anchor=\"middle\" x=\"180.5\" y=\"-171.8\" font-family=\"Helvetica,sans-Serif\" font-size=\"14.00\">area error &lt;= 20.37</text>\n<text text-anchor=\"middle\" x=\"180.5\" y=\"-156.8\" font-family=\"Helvetica,sans-Serif\" font-size=\"14.00\">entropy = 0.235</text>\n<text text-anchor=\"middle\" x=\"180.5\" y=\"-141.8\" font-family=\"Helvetica,sans-Serif\" font-size=\"14.00\">samples = 143</text>\n<text text-anchor=\"middle\" x=\"180.5\" y=\"-126.8\" font-family=\"Helvetica,sans-Serif\" font-size=\"14.00\">value = [9, 225]</text>\n<text text-anchor=\"middle\" x=\"180.5\" y=\"-111.8\" font-family=\"Helvetica,sans-Serif\" font-size=\"14.00\">class = benign</text>\n</g>\n<!-- 0&#45;&gt;1 -->\n<g id=\"edge1\" class=\"edge\">\n<title>0&#45;&gt;1</title>\n<path fill=\"none\" stroke=\"black\" d=\"M235.36,-222.91C228.97,-214.01 222.15,-204.51 215.56,-195.33\"/>\n<polygon fill=\"black\" stroke=\"black\" points=\"218.27,-193.1 209.59,-187.02 212.58,-197.19 218.27,-193.1\"/>\n<text text-anchor=\"middle\" x=\"205.54\" y=\"-207.99\" font-family=\"Helvetica,sans-Serif\" font-size=\"14.00\">True</text>\n</g>\n<!-- 4 -->\n<g id=\"node5\" class=\"node\">\n<title>4</title>\n<path fill=\"#f0b88f\" stroke=\"black\" d=\"M419,-187C419,-187 280,-187 280,-187 274,-187 268,-181 268,-175 268,-175 268,-116 268,-116 268,-110 274,-104 280,-104 280,-104 419,-104 419,-104 425,-104 431,-110 431,-116 431,-116 431,-175 431,-175 431,-181 425,-187 419,-187\"/>\n<text text-anchor=\"middle\" x=\"349.5\" y=\"-171.8\" font-family=\"Helvetica,sans-Serif\" font-size=\"14.00\">mean radius &lt;= 14.595</text>\n<text text-anchor=\"middle\" x=\"349.5\" y=\"-156.8\" font-family=\"Helvetica,sans-Serif\" font-size=\"14.00\">entropy = 0.885</text>\n<text text-anchor=\"middle\" x=\"349.5\" y=\"-141.8\" font-family=\"Helvetica,sans-Serif\" font-size=\"14.00\">samples = 143</text>\n<text text-anchor=\"middle\" x=\"349.5\" y=\"-126.8\" font-family=\"Helvetica,sans-Serif\" font-size=\"14.00\">value = [154, 67]</text>\n<text text-anchor=\"middle\" x=\"349.5\" y=\"-111.8\" font-family=\"Helvetica,sans-Serif\" font-size=\"14.00\">class = malignant</text>\n</g>\n<!-- 0&#45;&gt;4 -->\n<g id=\"edge4\" class=\"edge\">\n<title>0&#45;&gt;4</title>\n<path fill=\"none\" stroke=\"black\" d=\"M293.99,-222.91C300.45,-214.01 307.36,-204.51 314.02,-195.33\"/>\n<polygon fill=\"black\" stroke=\"black\" points=\"317.02,-197.17 320.06,-187.02 311.35,-193.05 317.02,-197.17\"/>\n<text text-anchor=\"middle\" x=\"323.97\" y=\"-208.01\" font-family=\"Helvetica,sans-Serif\" font-size=\"14.00\">False</text>\n</g>\n<!-- 2 -->\n<g id=\"node3\" class=\"node\">\n<title>2</title>\n<path fill=\"#399de5\" stroke=\"black\" d=\"M101,-68C101,-68 12,-68 12,-68 6,-68 0,-62 0,-56 0,-56 0,-12 0,-12 0,-6 6,0 12,0 12,0 101,0 101,0 107,0 113,-6 113,-12 113,-12 113,-56 113,-56 113,-62 107,-68 101,-68\"/>\n<text text-anchor=\"middle\" x=\"56.5\" y=\"-52.8\" font-family=\"Helvetica,sans-Serif\" font-size=\"14.00\">entropy = 0.0</text>\n<text text-anchor=\"middle\" x=\"56.5\" y=\"-37.8\" font-family=\"Helvetica,sans-Serif\" font-size=\"14.00\">samples = 74</text>\n<text text-anchor=\"middle\" x=\"56.5\" y=\"-22.8\" font-family=\"Helvetica,sans-Serif\" font-size=\"14.00\">value = [0, 127]</text>\n<text text-anchor=\"middle\" x=\"56.5\" y=\"-7.8\" font-family=\"Helvetica,sans-Serif\" font-size=\"14.00\">class = benign</text>\n</g>\n<!-- 1&#45;&gt;2 -->\n<g id=\"edge2\" class=\"edge\">\n<title>1&#45;&gt;2</title>\n<path fill=\"none\" stroke=\"black\" d=\"M134.33,-103.73C123.69,-94.33 112.38,-84.35 101.78,-74.99\"/>\n<polygon fill=\"black\" stroke=\"black\" points=\"104.02,-72.3 94.21,-68.3 99.39,-77.54 104.02,-72.3\"/>\n</g>\n<!-- 3 -->\n<g id=\"node4\" class=\"node\">\n<title>3</title>\n<path fill=\"#4ba6e7\" stroke=\"black\" d=\"M235.5,-68C235.5,-68 143.5,-68 143.5,-68 137.5,-68 131.5,-62 131.5,-56 131.5,-56 131.5,-12 131.5,-12 131.5,-6 137.5,0 143.5,0 143.5,0 235.5,0 235.5,0 241.5,0 247.5,-6 247.5,-12 247.5,-12 247.5,-56 247.5,-56 247.5,-62 241.5,-68 235.5,-68\"/>\n<text text-anchor=\"middle\" x=\"189.5\" y=\"-52.8\" font-family=\"Helvetica,sans-Serif\" font-size=\"14.00\">entropy = 0.417</text>\n<text text-anchor=\"middle\" x=\"189.5\" y=\"-37.8\" font-family=\"Helvetica,sans-Serif\" font-size=\"14.00\">samples = 69</text>\n<text text-anchor=\"middle\" x=\"189.5\" y=\"-22.8\" font-family=\"Helvetica,sans-Serif\" font-size=\"14.00\">value = [9, 98]</text>\n<text text-anchor=\"middle\" x=\"189.5\" y=\"-7.8\" font-family=\"Helvetica,sans-Serif\" font-size=\"14.00\">class = benign</text>\n</g>\n<!-- 1&#45;&gt;3 -->\n<g id=\"edge3\" class=\"edge\">\n<title>1&#45;&gt;3</title>\n<path fill=\"none\" stroke=\"black\" d=\"M183.85,-103.73C184.53,-95.43 185.25,-86.67 185.94,-78.28\"/>\n<polygon fill=\"black\" stroke=\"black\" points=\"189.43,-78.55 186.76,-68.3 182.46,-77.98 189.43,-78.55\"/>\n</g>\n<!-- 5 -->\n<g id=\"node6\" class=\"node\">\n<title>5</title>\n<path fill=\"#92c9f1\" stroke=\"black\" d=\"M386.5,-68C386.5,-68 294.5,-68 294.5,-68 288.5,-68 282.5,-62 282.5,-56 282.5,-56 282.5,-12 282.5,-12 282.5,-6 288.5,0 294.5,0 294.5,0 386.5,0 386.5,0 392.5,0 398.5,-6 398.5,-12 398.5,-12 398.5,-56 398.5,-56 398.5,-62 392.5,-68 386.5,-68\"/>\n<text text-anchor=\"middle\" x=\"340.5\" y=\"-52.8\" font-family=\"Helvetica,sans-Serif\" font-size=\"14.00\">entropy = 0.894</text>\n<text text-anchor=\"middle\" x=\"340.5\" y=\"-37.8\" font-family=\"Helvetica,sans-Serif\" font-size=\"14.00\">samples = 55</text>\n<text text-anchor=\"middle\" x=\"340.5\" y=\"-22.8\" font-family=\"Helvetica,sans-Serif\" font-size=\"14.00\">value = [28, 62]</text>\n<text text-anchor=\"middle\" x=\"340.5\" y=\"-7.8\" font-family=\"Helvetica,sans-Serif\" font-size=\"14.00\">class = benign</text>\n</g>\n<!-- 4&#45;&gt;5 -->\n<g id=\"edge5\" class=\"edge\">\n<title>4&#45;&gt;5</title>\n<path fill=\"none\" stroke=\"black\" d=\"M346.15,-103.73C345.47,-95.43 344.75,-86.67 344.06,-78.28\"/>\n<polygon fill=\"black\" stroke=\"black\" points=\"347.54,-77.98 343.24,-68.3 340.57,-78.55 347.54,-77.98\"/>\n</g>\n<!-- 6 -->\n<g id=\"node7\" class=\"node\">\n<title>6</title>\n<path fill=\"#e68641\" stroke=\"black\" d=\"M530,-68C530,-68 429,-68 429,-68 423,-68 417,-62 417,-56 417,-56 417,-12 417,-12 417,-6 423,0 429,0 429,0 530,0 530,0 536,0 542,-6 542,-12 542,-12 542,-56 542,-56 542,-62 536,-68 530,-68\"/>\n<text text-anchor=\"middle\" x=\"479.5\" y=\"-52.8\" font-family=\"Helvetica,sans-Serif\" font-size=\"14.00\">entropy = 0.234</text>\n<text text-anchor=\"middle\" x=\"479.5\" y=\"-37.8\" font-family=\"Helvetica,sans-Serif\" font-size=\"14.00\">samples = 88</text>\n<text text-anchor=\"middle\" x=\"479.5\" y=\"-22.8\" font-family=\"Helvetica,sans-Serif\" font-size=\"14.00\">value = [126, 5]</text>\n<text text-anchor=\"middle\" x=\"479.5\" y=\"-7.8\" font-family=\"Helvetica,sans-Serif\" font-size=\"14.00\">class = malignant</text>\n</g>\n<!-- 4&#45;&gt;6 -->\n<g id=\"edge6\" class=\"edge\">\n<title>4&#45;&gt;6</title>\n<path fill=\"none\" stroke=\"black\" d=\"M397.91,-103.73C409.06,-94.33 420.91,-84.35 432.03,-74.99\"/>\n<polygon fill=\"black\" stroke=\"black\" points=\"434.57,-77.42 439.97,-68.3 430.06,-72.06 434.57,-77.42\"/>\n</g>\n</g>\n</svg>\n",
      "text/plain": [
       "<graphviz.sources.Source at 0x1c39a8e8e50>"
      ]
     },
     "execution_count": 17,
     "metadata": {},
     "output_type": "execute_result"
    }
   ],
   "source": [
    "tree1 = sklearn_random_forest.estimators_[1]\n",
    "graph1 = export_graphviz(\n",
    "    tree1,\n",
    "    out_file=None,\n",
    "    feature_names=data.feature_names,\n",
    "    class_names=data.target_names,\n",
    "    rounded=True,\n",
    "    proportion=False,\n",
    "    filled=True,\n",
    ")\n",
    "graphviz.Source(graph1, format=\"png\")\n"
   ]
  },
  {
   "cell_type": "code",
   "execution_count": 18,
   "metadata": {},
   "outputs": [
    {
     "data": {
      "image/svg+xml": "<?xml version=\"1.0\" encoding=\"UTF-8\" standalone=\"no\"?>\n<!DOCTYPE svg PUBLIC \"-//W3C//DTD SVG 1.1//EN\"\n \"http://www.w3.org/Graphics/SVG/1.1/DTD/svg11.dtd\">\n<!-- Generated by graphviz version 3.0.0 (20220226.1711)\n -->\n<!-- Title: Tree Pages: 1 -->\n<svg width=\"350pt\" height=\"314pt\"\n viewBox=\"0.00 0.00 350.00 314.00\" xmlns=\"http://www.w3.org/2000/svg\" xmlns:xlink=\"http://www.w3.org/1999/xlink\">\n<g id=\"graph0\" class=\"graph\" transform=\"scale(1 1) rotate(0) translate(4 310)\">\n<title>Tree</title>\n<polygon fill=\"white\" stroke=\"transparent\" points=\"-4,4 -4,-310 346,-310 346,4 -4,4\"/>\n<!-- 0 -->\n<g id=\"node1\" class=\"node\">\n<title>0</title>\n<path fill=\"#9acdf2\" stroke=\"black\" d=\"M293.5,-306C293.5,-306 107.5,-306 107.5,-306 101.5,-306 95.5,-300 95.5,-294 95.5,-294 95.5,-235 95.5,-235 95.5,-229 101.5,-223 107.5,-223 107.5,-223 293.5,-223 293.5,-223 299.5,-223 305.5,-229 305.5,-235 305.5,-235 305.5,-294 305.5,-294 305.5,-300 299.5,-306 293.5,-306\"/>\n<text text-anchor=\"middle\" x=\"200.5\" y=\"-290.8\" font-family=\"Helvetica,sans-Serif\" font-size=\"14.00\">worst concave points &lt;= 0.146</text>\n<text text-anchor=\"middle\" x=\"200.5\" y=\"-275.8\" font-family=\"Helvetica,sans-Serif\" font-size=\"14.00\">entropy = 0.915</text>\n<text text-anchor=\"middle\" x=\"200.5\" y=\"-260.8\" font-family=\"Helvetica,sans-Serif\" font-size=\"14.00\">samples = 279</text>\n<text text-anchor=\"middle\" x=\"200.5\" y=\"-245.8\" font-family=\"Helvetica,sans-Serif\" font-size=\"14.00\">value = [150, 305]</text>\n<text text-anchor=\"middle\" x=\"200.5\" y=\"-230.8\" font-family=\"Helvetica,sans-Serif\" font-size=\"14.00\">class = benign</text>\n</g>\n<!-- 1 -->\n<g id=\"node2\" class=\"node\">\n<title>1</title>\n<path fill=\"#47a4e7\" stroke=\"black\" d=\"M186.5,-187C186.5,-187 58.5,-187 58.5,-187 52.5,-187 46.5,-181 46.5,-175 46.5,-175 46.5,-116 46.5,-116 46.5,-110 52.5,-104 58.5,-104 58.5,-104 186.5,-104 186.5,-104 192.5,-104 198.5,-110 198.5,-116 198.5,-116 198.5,-175 198.5,-175 198.5,-181 192.5,-187 186.5,-187\"/>\n<text text-anchor=\"middle\" x=\"122.5\" y=\"-171.8\" font-family=\"Helvetica,sans-Serif\" font-size=\"14.00\">mean area &lt;= 562.55</text>\n<text text-anchor=\"middle\" x=\"122.5\" y=\"-156.8\" font-family=\"Helvetica,sans-Serif\" font-size=\"14.00\">entropy = 0.35</text>\n<text text-anchor=\"middle\" x=\"122.5\" y=\"-141.8\" font-family=\"Helvetica,sans-Serif\" font-size=\"14.00\">samples = 194</text>\n<text text-anchor=\"middle\" x=\"122.5\" y=\"-126.8\" font-family=\"Helvetica,sans-Serif\" font-size=\"14.00\">value = [21, 298]</text>\n<text text-anchor=\"middle\" x=\"122.5\" y=\"-111.8\" font-family=\"Helvetica,sans-Serif\" font-size=\"14.00\">class = benign</text>\n</g>\n<!-- 0&#45;&gt;1 -->\n<g id=\"edge1\" class=\"edge\">\n<title>0&#45;&gt;1</title>\n<path fill=\"none\" stroke=\"black\" d=\"M173.44,-222.91C167.57,-214.1 161.3,-204.7 155.24,-195.61\"/>\n<polygon fill=\"black\" stroke=\"black\" points=\"157.97,-193.4 149.51,-187.02 152.15,-197.28 157.97,-193.4\"/>\n<text text-anchor=\"middle\" x=\"144.61\" y=\"-207.84\" font-family=\"Helvetica,sans-Serif\" font-size=\"14.00\">True</text>\n</g>\n<!-- 4 -->\n<g id=\"node5\" class=\"node\">\n<title>4</title>\n<path fill=\"#e68844\" stroke=\"black\" d=\"M330,-179.5C330,-179.5 229,-179.5 229,-179.5 223,-179.5 217,-173.5 217,-167.5 217,-167.5 217,-123.5 217,-123.5 217,-117.5 223,-111.5 229,-111.5 229,-111.5 330,-111.5 330,-111.5 336,-111.5 342,-117.5 342,-123.5 342,-123.5 342,-167.5 342,-167.5 342,-173.5 336,-179.5 330,-179.5\"/>\n<text text-anchor=\"middle\" x=\"279.5\" y=\"-164.3\" font-family=\"Helvetica,sans-Serif\" font-size=\"14.00\">entropy = 0.293</text>\n<text text-anchor=\"middle\" x=\"279.5\" y=\"-149.3\" font-family=\"Helvetica,sans-Serif\" font-size=\"14.00\">samples = 85</text>\n<text text-anchor=\"middle\" x=\"279.5\" y=\"-134.3\" font-family=\"Helvetica,sans-Serif\" font-size=\"14.00\">value = [129, 7]</text>\n<text text-anchor=\"middle\" x=\"279.5\" y=\"-119.3\" font-family=\"Helvetica,sans-Serif\" font-size=\"14.00\">class = malignant</text>\n</g>\n<!-- 0&#45;&gt;4 -->\n<g id=\"edge4\" class=\"edge\">\n<title>0&#45;&gt;4</title>\n<path fill=\"none\" stroke=\"black\" d=\"M227.91,-222.91C235.51,-211.65 243.77,-199.42 251.41,-188.11\"/>\n<polygon fill=\"black\" stroke=\"black\" points=\"254.41,-189.91 257.11,-179.67 248.61,-186 254.41,-189.91\"/>\n<text text-anchor=\"middle\" x=\"261.86\" y=\"-200.51\" font-family=\"Helvetica,sans-Serif\" font-size=\"14.00\">False</text>\n</g>\n<!-- 2 -->\n<g id=\"node3\" class=\"node\">\n<title>2</title>\n<path fill=\"#399de5\" stroke=\"black\" d=\"M101,-68C101,-68 12,-68 12,-68 6,-68 0,-62 0,-56 0,-56 0,-12 0,-12 0,-6 6,0 12,0 12,0 101,0 101,0 107,0 113,-6 113,-12 113,-12 113,-56 113,-56 113,-62 107,-68 101,-68\"/>\n<text text-anchor=\"middle\" x=\"56.5\" y=\"-52.8\" font-family=\"Helvetica,sans-Serif\" font-size=\"14.00\">entropy = 0.0</text>\n<text text-anchor=\"middle\" x=\"56.5\" y=\"-37.8\" font-family=\"Helvetica,sans-Serif\" font-size=\"14.00\">samples = 139</text>\n<text text-anchor=\"middle\" x=\"56.5\" y=\"-22.8\" font-family=\"Helvetica,sans-Serif\" font-size=\"14.00\">value = [0, 237]</text>\n<text text-anchor=\"middle\" x=\"56.5\" y=\"-7.8\" font-family=\"Helvetica,sans-Serif\" font-size=\"14.00\">class = benign</text>\n</g>\n<!-- 1&#45;&gt;2 -->\n<g id=\"edge2\" class=\"edge\">\n<title>1&#45;&gt;2</title>\n<path fill=\"none\" stroke=\"black\" d=\"M97.92,-103.73C92.65,-94.97 87.06,-85.7 81.76,-76.91\"/>\n<polygon fill=\"black\" stroke=\"black\" points=\"84.73,-75.06 76.57,-68.3 78.74,-78.67 84.73,-75.06\"/>\n</g>\n<!-- 3 -->\n<g id=\"node4\" class=\"node\">\n<title>3</title>\n<path fill=\"#7dbfee\" stroke=\"black\" d=\"M235.5,-68C235.5,-68 143.5,-68 143.5,-68 137.5,-68 131.5,-62 131.5,-56 131.5,-56 131.5,-12 131.5,-12 131.5,-6 137.5,0 143.5,0 143.5,0 235.5,0 235.5,0 241.5,0 247.5,-6 247.5,-12 247.5,-12 247.5,-56 247.5,-56 247.5,-62 241.5,-68 235.5,-68\"/>\n<text text-anchor=\"middle\" x=\"189.5\" y=\"-52.8\" font-family=\"Helvetica,sans-Serif\" font-size=\"14.00\">entropy = 0.821</text>\n<text text-anchor=\"middle\" x=\"189.5\" y=\"-37.8\" font-family=\"Helvetica,sans-Serif\" font-size=\"14.00\">samples = 55</text>\n<text text-anchor=\"middle\" x=\"189.5\" y=\"-22.8\" font-family=\"Helvetica,sans-Serif\" font-size=\"14.00\">value = [21, 61]</text>\n<text text-anchor=\"middle\" x=\"189.5\" y=\"-7.8\" font-family=\"Helvetica,sans-Serif\" font-size=\"14.00\">class = benign</text>\n</g>\n<!-- 1&#45;&gt;3 -->\n<g id=\"edge3\" class=\"edge\">\n<title>1&#45;&gt;3</title>\n<path fill=\"none\" stroke=\"black\" d=\"M147.45,-103.73C152.81,-94.97 158.48,-85.7 163.86,-76.91\"/>\n<polygon fill=\"black\" stroke=\"black\" points=\"166.89,-78.66 169.12,-68.3 160.92,-75 166.89,-78.66\"/>\n</g>\n</g>\n</svg>\n",
      "text/plain": [
       "<graphviz.sources.Source at 0x1c39a8e8190>"
      ]
     },
     "execution_count": 18,
     "metadata": {},
     "output_type": "execute_result"
    }
   ],
   "source": [
    "tree2 = sklearn_random_forest.estimators_[2]\n",
    "graph2 = export_graphviz(\n",
    "    tree2,\n",
    "    out_file=None,\n",
    "    feature_names=data.feature_names,\n",
    "    class_names=data.target_names,\n",
    "    rounded=True,\n",
    "    proportion=False,\n",
    "    filled=True,\n",
    ")\n",
    "graphviz.Source(graph2, format=\"png\")\n"
   ]
  },
  {
   "cell_type": "code",
   "execution_count": 19,
   "metadata": {},
   "outputs": [],
   "source": [
    "predictions_sklearn = sklearn_random_forest.predict(X_test)\n"
   ]
  },
  {
   "cell_type": "code",
   "execution_count": 20,
   "metadata": {},
   "outputs": [
    {
     "name": "stdout",
     "output_type": "stream",
     "text": [
      "              precision    recall  f1-score   support\n",
      "\n",
      "           0       0.95      0.86      0.90        43\n",
      "           1       0.92      0.97      0.95        71\n",
      "\n",
      "    accuracy                           0.93       114\n",
      "   macro avg       0.93      0.92      0.92       114\n",
      "weighted avg       0.93      0.93      0.93       114\n",
      "\n"
     ]
    }
   ],
   "source": [
    "print(classification_report(y_test, predictions_sklearn))\n"
   ]
  }
 ],
 "metadata": {
  "kernelspec": {
   "display_name": "venv",
   "language": "python",
   "name": "venv"
  },
  "language_info": {
   "codemirror_mode": {
    "name": "ipython",
    "version": 3
   },
   "file_extension": ".py",
   "mimetype": "text/x-python",
   "name": "python",
   "nbconvert_exporter": "python",
   "pygments_lexer": "ipython3",
   "version": "3.10.4"
  },
  "orig_nbformat": 4
 },
 "nbformat": 4,
 "nbformat_minor": 2
}
